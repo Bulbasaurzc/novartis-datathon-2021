{
 "cells": [
  {
   "cell_type": "code",
   "execution_count": 1,
   "metadata": {},
   "outputs": [],
   "source": [
    "import sys\n",
    "sys.path.append('..')\n",
    "from src.utilities import *\n",
    "\n",
    "import warnings\n",
    "warnings.filterwarnings(\"ignore\")\n",
    "\n",
    "import logging, sys\n",
    "logging.disable(sys.maxsize)\n",
    "\n",
    "from fbprophet import Prophet\n",
    "from fbprophet.plot import plot_plotly"
   ]
  },
  {
   "cell_type": "markdown",
   "metadata": {},
   "source": [
    "## 1. Prophet feature extraction"
   ]
  },
  {
   "cell_type": "markdown",
   "metadata": {},
   "source": [
    "### 1.1 Extract predictions for each month-brand-region using previous information"
   ]
  },
  {
   "cell_type": "code",
   "execution_count": null,
   "metadata": {},
   "outputs": [
    {
     "name": "stderr",
     "output_type": "stream",
     "text": [
      " 14%|██████████▊                                                                   | 28/201 [57:53<7:13:44, 150.43s/it]"
     ]
    }
   ],
   "source": [
    "sales_train = pd.read_csv(os.path.join(raw_path, 'sales_train.csv'))\n",
    "\n",
    "def extract_prophet_features(raw_sales: pd.DataFrame) -> pd.DataFrame:\n",
    "    '''Provides prediction, additive term and trend term for every month-region-brand'''\n",
    "    \n",
    "    months_to_predict = ['2020-06', '2020-07', '2020-08', '2020-09', '2020-10', '2020-11', '2020-12', '2021-01',\n",
    "                         '2021-02', '2021-03', '2021-04', '2021-05', '2021-06', '2021-07', '2021-08']\n",
    "\n",
    "    brands_to_predict = ['brand_12_market', 'brand_3', 'brand_3_market']\n",
    "\n",
    "    results_prophet = pd.DataFrame()\n",
    "\n",
    "    for reg in tqdm(raw_sales.region.unique()):\n",
    "        for brand in brands_to_predict:\n",
    "            for mon in months_to_predict:\n",
    "\n",
    "                current = raw_sales[(raw_sales.brand == brand) & \n",
    "                                      (raw_sales.region == reg) & \n",
    "                                      (raw_sales.month < mon)][['month', 'sales']]\n",
    "                current.columns = ['ds', 'y']\n",
    "                current.ds = pd.to_datetime(current.ds)\n",
    "\n",
    "                m = Prophet(yearly_seasonality=True, weekly_seasonality=False, daily_seasonality=False)\n",
    "\n",
    "                m.fit(current, iter = 60)\n",
    "\n",
    "                prediction = m.predict(pd.DataFrame({'ds': [mon]}))\n",
    "\n",
    "                to_append = pd.DataFrame({'month': [mon],\n",
    "                                          'brand': [brand],\n",
    "                                          'region': [reg],\n",
    "                                          'trend': [prediction.trend[0]],\n",
    "                                          'prediction': [prediction.yhat[0]],\n",
    "                                          'additive_terms': [prediction.additive_terms[0]]\n",
    "                                         })\n",
    "\n",
    "                results_prophet = pd.concat([results_prophet, to_append])\n",
    "                \n",
    "    trend_features = results_prophet.pivot(index = ['month', 'region'], columns = 'brand', values = 'trend').reset_index()\n",
    "    trend_features.columns = ['month', 'region', 'prophet_b12_market_trend', 'prophet_b3_trend', 'prophet_b3_market_trend']\n",
    "\n",
    "    yhat_features = results_prophet.pivot(index = ['month', 'region'], columns = 'brand', values = 'prediction').reset_index()\n",
    "    yhat_features.columns = ['month', 'region', 'prophet_b12_market_yhat', 'prophet_b3_yhat', 'prophet_b3_market_yhat']\n",
    "\n",
    "    additive_features = results_prophet.pivot(index = ['month', 'region'], columns = 'brand', \n",
    "                                              values = 'additive_terms').reset_index()\n",
    "    additive_features.columns = ['month', 'region', 'prophet_b12_market_add', 'prophet_b3_add', 'prophet_b3_market_add']\n",
    "    \n",
    "    prophet_features = trend_features.merge(yhat_features, how = 'left', on = ['month', 'region'])\n",
    "    prophet_features = prophet_features.merge(additive_features, how = 'left', on = ['month', 'region'])\n",
    "    prophet_features.reset_index(drop = True, inplace = True)\n",
    "    \n",
    "    return prophet_features\n",
    "\n",
    "prophet_features = extract_prophet_features(sales_train)\n",
    "prophet_features.head()"
   ]
  },
  {
   "cell_type": "markdown",
   "metadata": {},
   "source": [
    "### 1.2 Store prophet features"
   ]
  },
  {
   "cell_type": "code",
   "execution_count": null,
   "metadata": {},
   "outputs": [],
   "source": [
    "prophet_features.to_csv(os.path.join(interim_path, 'prophet_features.csv'), index = False)"
   ]
  }
 ],
 "metadata": {
  "kernelspec": {
   "display_name": "Python 3",
   "language": "python",
   "name": "python3"
  },
  "language_info": {
   "codemirror_mode": {
    "name": "ipython",
    "version": 3
   },
   "file_extension": ".py",
   "mimetype": "text/x-python",
   "name": "python",
   "nbconvert_exporter": "python",
   "pygments_lexer": "ipython3",
   "version": "3.8.11"
  }
 },
 "nbformat": 4,
 "nbformat_minor": 5
}
