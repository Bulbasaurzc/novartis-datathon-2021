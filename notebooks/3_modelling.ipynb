{
 "cells": [
  {
   "cell_type": "code",
   "execution_count": 1,
   "metadata": {},
   "outputs": [],
   "source": [
    "import sys\n",
    "sys.path.append('..')\n",
    "from src.utilities import *\n",
    "from src.models.train_model import train_model\n",
    "from src.models.param_opt import bayes_parameter_opt_lgb"
   ]
  },
  {
   "cell_type": "markdown",
   "metadata": {},
   "source": [
    "## 3. Modelling"
   ]
  },
  {
   "cell_type": "markdown",
   "metadata": {},
   "source": [
    "### 3.1 Load master table"
   ]
  },
  {
   "cell_type": "code",
   "execution_count": 2,
   "metadata": {},
   "outputs": [],
   "source": [
    "master = pd.read_csv(os.path.join(processed_path, 'master.csv'))"
   ]
  },
  {
   "cell_type": "markdown",
   "metadata": {},
   "source": [
    "### 3.2 Train / val / test split"
   ]
  },
  {
   "cell_type": "code",
   "execution_count": 3,
   "metadata": {},
   "outputs": [],
   "source": [
    "x_train = master[(master.sales.isna()==False)].drop(columns = ['region', 'brand']).copy()\n",
    "x_train = x_train[x_train.month >= '2020-06']\n",
    "x_train['train'] =  (x_train.month <= '2021-06').astype(float)\n",
    "x_train.drop(columns = 'month', inplace = True)"
   ]
  },
  {
   "cell_type": "markdown",
   "metadata": {},
   "source": [
    "### 3.3 Parameter search"
   ]
  },
  {
   "cell_type": "code",
   "execution_count": 4,
   "metadata": {
    "scrolled": true
   },
   "outputs": [],
   "source": [
    "# best_params = bayes_parameter_opt_lgb(X = x_train.drop(columns = ['sales', 'train']), y = x_train.sales,\n",
    "#                                       init_round=30, opt_round=30, n_folds=6, random_seed=6, n_estimators=10000, \n",
    "#                                       learning_rate=0.01, save_path = '')\n",
    "# best_params = best_params.max['params']\n",
    "# best_params"
   ]
  },
  {
   "cell_type": "markdown",
   "metadata": {},
   "source": [
    "### 3.4 Model training"
   ]
  },
  {
   "cell_type": "code",
   "execution_count": 4,
   "metadata": {},
   "outputs": [
    {
     "ename": "TypeError",
     "evalue": "train_model() got an unexpected keyword argument 'split'",
     "output_type": "error",
     "traceback": [
      "\u001b[1;31m---------------------------------------------------------------------------\u001b[0m",
      "\u001b[1;31mTypeError\u001b[0m                                 Traceback (most recent call last)",
      "\u001b[1;32m<ipython-input-4-3d776217ec50>\u001b[0m in \u001b[0;36m<module>\u001b[1;34m\u001b[0m\n\u001b[0;32m     15\u001b[0m \u001b[1;33m\u001b[0m\u001b[0m\n\u001b[0;32m     16\u001b[0m \u001b[1;32mfor\u001b[0m \u001b[0malpha\u001b[0m \u001b[1;32min\u001b[0m \u001b[0mquantile_alphas\u001b[0m\u001b[1;33m:\u001b[0m\u001b[1;33m\u001b[0m\u001b[1;33m\u001b[0m\u001b[0m\n\u001b[1;32m---> 17\u001b[1;33m     current_model = train_model(x_train, target_name = 'sales', \n\u001b[0m\u001b[0;32m     18\u001b[0m                                 \u001b[0mmodel_type\u001b[0m \u001b[1;33m=\u001b[0m \u001b[1;34m'lgb-quantile'\u001b[0m\u001b[1;33m,\u001b[0m\u001b[1;33m\u001b[0m\u001b[1;33m\u001b[0m\u001b[0m\n\u001b[0;32m     19\u001b[0m                                 \u001b[0mquantile_alpha\u001b[0m \u001b[1;33m=\u001b[0m \u001b[0malpha\u001b[0m\u001b[1;33m,\u001b[0m\u001b[1;33m\u001b[0m\u001b[1;33m\u001b[0m\u001b[0m\n",
      "\u001b[1;31mTypeError\u001b[0m: train_model() got an unexpected keyword argument 'split'"
     ]
    }
   ],
   "source": [
    "##### Define best parameters found earlier\n",
    "best_params = {'metric': 'rmse',\n",
    "               'bagging_fraction': 1,\n",
    "               'feature_fraction': 0.9,\n",
    "               'lambda_l1': 0,\n",
    "               'lambda_l2': 0,\n",
    "               'max_depth': 13,\n",
    "               'min_child_weight': 7.720200312255985,\n",
    "               'min_split_gain': 0.1,\n",
    "               'num_leaves': 45}\n",
    "\n",
    "##### Train a quantile regression lgb at different alpha levels\n",
    "quantile_alphas = [0.2, 0.5, 0.8]\n",
    "lgb_quantiles = {}\n",
    "\n",
    "for alpha in quantile_alphas:\n",
    "    current_model = train_model(x_train, target_name = 'sales', \n",
    "                                model_type = 'lgb-quantile', \n",
    "                                quantile_alpha = alpha,\n",
    "                                params = best_params, \n",
    "                                metric = 'rmse', \n",
    "                                split = 'in_sample',\n",
    "                                save_path = os.path.join(models_path, \n",
    "                                                         'model2_quantile_'+ str(alpha)+'.pkl'))\n",
    "    lgb_quantiles[alpha] = current_model\n",
    "    \n",
    "##### Visualize feature contributions\n",
    "feature_contributions = pd.DataFrame({'feature': x_train.drop(columns = ['sales', 'train']).columns, \n",
    "                                      'gain': lgb_quantiles[0.5].feature_importance(importance_type = 'gain'),\n",
    "                                      'split': lgb_quantiles[0.5].feature_importance(importance_type = 'split')\n",
    "                                     }).sort_values('gain', ascending = False)\n",
    "\n",
    "feature_contributions[feature_contributions.gain>0][:40]\n",
    "\n",
    "# 0.2 - 1663.31 2678.46\n",
    "# 0.5 -  1069.4 1926.61\n",
    "# 0.8 - 912.067 1618.18"
   ]
  },
  {
   "cell_type": "markdown",
   "metadata": {},
   "source": [
    "### 3.5 Prediction storage"
   ]
  },
  {
   "cell_type": "code",
   "execution_count": 7,
   "metadata": {},
   "outputs": [
    {
     "data": {
      "text/html": [
       "<div>\n",
       "<style scoped>\n",
       "    .dataframe tbody tr th:only-of-type {\n",
       "        vertical-align: middle;\n",
       "    }\n",
       "\n",
       "    .dataframe tbody tr th {\n",
       "        vertical-align: top;\n",
       "    }\n",
       "\n",
       "    .dataframe thead th {\n",
       "        text-align: right;\n",
       "    }\n",
       "</style>\n",
       "<table border=\"1\" class=\"dataframe\">\n",
       "  <thead>\n",
       "    <tr style=\"text-align: right;\">\n",
       "      <th></th>\n",
       "      <th>month</th>\n",
       "      <th>region</th>\n",
       "      <th>brand</th>\n",
       "      <th>sales</th>\n",
       "      <th>lower</th>\n",
       "      <th>upper</th>\n",
       "    </tr>\n",
       "  </thead>\n",
       "  <tbody>\n",
       "    <tr>\n",
       "      <th>2714</th>\n",
       "      <td>2020-07</td>\n",
       "      <td>region_151</td>\n",
       "      <td>brand_1</td>\n",
       "      <td>9.427720</td>\n",
       "      <td>1.759659e-28</td>\n",
       "      <td>0.000000</td>\n",
       "    </tr>\n",
       "    <tr>\n",
       "      <th>2715</th>\n",
       "      <td>2020-07</td>\n",
       "      <td>region_151</td>\n",
       "      <td>brand_2</td>\n",
       "      <td>9.427720</td>\n",
       "      <td>1.759659e-28</td>\n",
       "      <td>0.000000</td>\n",
       "    </tr>\n",
       "    <tr>\n",
       "      <th>2716</th>\n",
       "      <td>2020-07</td>\n",
       "      <td>region_152</td>\n",
       "      <td>brand_1</td>\n",
       "      <td>35.910898</td>\n",
       "      <td>1.759659e-28</td>\n",
       "      <td>580.265151</td>\n",
       "    </tr>\n",
       "    <tr>\n",
       "      <th>2717</th>\n",
       "      <td>2020-07</td>\n",
       "      <td>region_152</td>\n",
       "      <td>brand_2</td>\n",
       "      <td>35.910898</td>\n",
       "      <td>1.759659e-28</td>\n",
       "      <td>580.265151</td>\n",
       "    </tr>\n",
       "    <tr>\n",
       "      <th>2718</th>\n",
       "      <td>2020-07</td>\n",
       "      <td>region_153</td>\n",
       "      <td>brand_1</td>\n",
       "      <td>57.125015</td>\n",
       "      <td>1.759659e-28</td>\n",
       "      <td>92.882347</td>\n",
       "    </tr>\n",
       "  </tbody>\n",
       "</table>\n",
       "</div>"
      ],
      "text/plain": [
       "        month      region    brand      sales         lower       upper\n",
       "2714  2020-07  region_151  brand_1   9.427720  1.759659e-28    0.000000\n",
       "2715  2020-07  region_151  brand_2   9.427720  1.759659e-28    0.000000\n",
       "2716  2020-07  region_152  brand_1  35.910898  1.759659e-28  580.265151\n",
       "2717  2020-07  region_152  brand_2  35.910898  1.759659e-28  580.265151\n",
       "2718  2020-07  region_153  brand_1  57.125015  1.759659e-28   92.882347"
      ]
     },
     "execution_count": 7,
     "metadata": {},
     "output_type": "execute_result"
    }
   ],
   "source": [
    "submission = master[(master.sales.isna()) & (master.month >= '2020-07')].copy()\n",
    "submission['sales'] = lgb_quantiles[0.5].predict(submission.drop(columns = ['month', 'region', 'brand', 'sales']))\n",
    "submission['lower'] = lgb_quantiles[0.2].predict(submission.drop(columns = ['month', 'region', 'brand', 'sales']))\n",
    "submission['upper'] = lgb_quantiles[0.8].predict(submission.drop(columns = ['month', 'region', 'brand', 'sales', 'lower']))\n",
    "submission = submission[['month', 'region', 'brand', 'sales', 'lower', 'upper']]\n",
    "\n",
    "submission.loc[submission.sales < 0, 'sales'] = 0\n",
    "submission.loc[submission.lower < 0, 'lower'] = 0\n",
    "submission.loc[submission.upper < 0, 'upper'] = 0\n",
    "submission.head()"
   ]
  },
  {
   "cell_type": "code",
   "execution_count": 8,
   "metadata": {},
   "outputs": [],
   "source": [
    "submission.to_csv(os.path.join(results_path, 'submission5_team46.csv'), index = False)"
   ]
  },
  {
   "cell_type": "code",
   "execution_count": 9,
   "metadata": {},
   "outputs": [
    {
     "data": {
      "text/plain": [
       "1017.6503796655638"
      ]
     },
     "execution_count": 9,
     "metadata": {},
     "output_type": "execute_result"
    }
   ],
   "source": [
    "(submission['upper'] - submission['lower']).mean()\n",
    "\n",
    "# Submission 2 difference - 1815.437323083508\n",
    "# Submission 3 difference - 1613.6602449420075\n",
    "# Submission 4 difference - 1145.0976140382802\n",
    "# Submission 5 difference - 1017.6503796655638"
   ]
  }
 ],
 "metadata": {
  "kernelspec": {
   "display_name": "Python 3",
   "language": "python",
   "name": "python3"
  },
  "language_info": {
   "codemirror_mode": {
    "name": "ipython",
    "version": 3
   },
   "file_extension": ".py",
   "mimetype": "text/x-python",
   "name": "python",
   "nbconvert_exporter": "python",
   "pygments_lexer": "ipython3",
   "version": "3.8.11"
  }
 },
 "nbformat": 4,
 "nbformat_minor": 5
}
