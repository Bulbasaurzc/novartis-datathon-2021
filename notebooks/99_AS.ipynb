{
 "cells": [
  {
   "cell_type": "code",
   "execution_count": 1,
   "metadata": {},
   "outputs": [],
   "source": [
    "import sys\n",
    "sys.path.append('..')\n",
    "from src.utilities import *"
   ]
  },
  {
   "cell_type": "code",
   "execution_count": 2,
   "metadata": {},
   "outputs": [],
   "source": [
    "import tsfresh"
   ]
  },
  {
   "cell_type": "code",
   "execution_count": 3,
   "metadata": {},
   "outputs": [
    {
     "data": {
      "text/html": [
       "<div>\n",
       "<style scoped>\n",
       "    .dataframe tbody tr th:only-of-type {\n",
       "        vertical-align: middle;\n",
       "    }\n",
       "\n",
       "    .dataframe tbody tr th {\n",
       "        vertical-align: top;\n",
       "    }\n",
       "\n",
       "    .dataframe thead th {\n",
       "        text-align: right;\n",
       "    }\n",
       "</style>\n",
       "<table border=\"1\" class=\"dataframe\">\n",
       "  <thead>\n",
       "    <tr style=\"text-align: right;\">\n",
       "      <th></th>\n",
       "      <th>month</th>\n",
       "      <th>region</th>\n",
       "      <th>brand</th>\n",
       "      <th>sales</th>\n",
       "    </tr>\n",
       "  </thead>\n",
       "  <tbody>\n",
       "    <tr>\n",
       "      <th>0</th>\n",
       "      <td>2020-01</td>\n",
       "      <td>region_0</td>\n",
       "      <td>brand_1</td>\n",
       "      <td>0.00</td>\n",
       "    </tr>\n",
       "    <tr>\n",
       "      <th>1</th>\n",
       "      <td>2020-01</td>\n",
       "      <td>region_0</td>\n",
       "      <td>brand_2</td>\n",
       "      <td>0.00</td>\n",
       "    </tr>\n",
       "    <tr>\n",
       "      <th>2</th>\n",
       "      <td>2020-01</td>\n",
       "      <td>region_0</td>\n",
       "      <td>brand_3</td>\n",
       "      <td>65007.49</td>\n",
       "    </tr>\n",
       "    <tr>\n",
       "      <th>3</th>\n",
       "      <td>2020-01</td>\n",
       "      <td>region_0</td>\n",
       "      <td>brand_12_market</td>\n",
       "      <td>509023.69</td>\n",
       "    </tr>\n",
       "    <tr>\n",
       "      <th>4</th>\n",
       "      <td>2020-01</td>\n",
       "      <td>region_0</td>\n",
       "      <td>brand_3_market</td>\n",
       "      <td>940469.05</td>\n",
       "    </tr>\n",
       "  </tbody>\n",
       "</table>\n",
       "</div>"
      ],
      "text/plain": [
       "     month    region            brand      sales\n",
       "0  2020-01  region_0          brand_1       0.00\n",
       "1  2020-01  region_0          brand_2       0.00\n",
       "2  2020-01  region_0          brand_3   65007.49\n",
       "3  2020-01  region_0  brand_12_market  509023.69\n",
       "4  2020-01  region_0   brand_3_market  940469.05"
      ]
     },
     "execution_count": 3,
     "metadata": {},
     "output_type": "execute_result"
    }
   ],
   "source": [
    "sales_train = pd.read_csv(os.path.join(raw_path, 'sales_train.csv'))\n",
    "sales_train.head()"
   ]
  },
  {
   "cell_type": "code",
   "execution_count": null,
   "metadata": {},
   "outputs": [],
   "source": []
  },
  {
   "cell_type": "code",
   "execution_count": null,
   "metadata": {},
   "outputs": [],
   "source": [
    "tf=tsfresh.extract_features(df, column_id='id')"
   ]
  },
  {
   "cell_type": "code",
   "execution_count": 16,
   "metadata": {},
   "outputs": [
    {
     "data": {
      "text/html": [
       "<div>\n",
       "<style scoped>\n",
       "    .dataframe tbody tr th:only-of-type {\n",
       "        vertical-align: middle;\n",
       "    }\n",
       "\n",
       "    .dataframe tbody tr th {\n",
       "        vertical-align: top;\n",
       "    }\n",
       "\n",
       "    .dataframe thead th {\n",
       "        text-align: right;\n",
       "    }\n",
       "</style>\n",
       "<table border=\"1\" class=\"dataframe\">\n",
       "  <thead>\n",
       "    <tr style=\"text-align: right;\">\n",
       "      <th></th>\n",
       "      <th>hcp</th>\n",
       "      <th>tier</th>\n",
       "      <th>region</th>\n",
       "      <th>specialty</th>\n",
       "    </tr>\n",
       "  </thead>\n",
       "  <tbody>\n",
       "    <tr>\n",
       "      <th>0</th>\n",
       "      <td>83</td>\n",
       "      <td>2</td>\n",
       "      <td>region_59</td>\n",
       "      <td>Internal medicine</td>\n",
       "    </tr>\n",
       "    <tr>\n",
       "      <th>1</th>\n",
       "      <td>112</td>\n",
       "      <td>1</td>\n",
       "      <td>region_103</td>\n",
       "      <td>Internal medicine</td>\n",
       "    </tr>\n",
       "    <tr>\n",
       "      <th>2</th>\n",
       "      <td>307</td>\n",
       "      <td>2</td>\n",
       "      <td>region_33</td>\n",
       "      <td>Internal medicine / pneumology</td>\n",
       "    </tr>\n",
       "    <tr>\n",
       "      <th>3</th>\n",
       "      <td>387</td>\n",
       "      <td>2</td>\n",
       "      <td>region_97</td>\n",
       "      <td>Internal medicine / pneumology</td>\n",
       "    </tr>\n",
       "    <tr>\n",
       "      <th>4</th>\n",
       "      <td>426</td>\n",
       "      <td>1</td>\n",
       "      <td>region_118</td>\n",
       "      <td>General practicioner</td>\n",
       "    </tr>\n",
       "  </tbody>\n",
       "</table>\n",
       "</div>"
      ],
      "text/plain": [
       "   hcp  tier      region                       specialty\n",
       "0   83     2   region_59               Internal medicine\n",
       "1  112     1  region_103               Internal medicine\n",
       "2  307     2   region_33  Internal medicine / pneumology\n",
       "3  387     2   region_97  Internal medicine / pneumology\n",
       "4  426     1  region_118            General practicioner"
      ]
     },
     "execution_count": 16,
     "metadata": {},
     "output_type": "execute_result"
    }
   ],
   "source": [
    "hcps = pd.read_csv(os.path.join(raw_path, 'hcps.csv'))\n",
    "hcps.head()\n",
    "# ZI"
   ]
  },
  {
   "cell_type": "code",
   "execution_count": 6,
   "metadata": {},
   "outputs": [
    {
     "data": {
      "text/html": [
       "<div>\n",
       "<style scoped>\n",
       "    .dataframe tbody tr th:only-of-type {\n",
       "        vertical-align: middle;\n",
       "    }\n",
       "\n",
       "    .dataframe tbody tr th {\n",
       "        vertical-align: top;\n",
       "    }\n",
       "\n",
       "    .dataframe thead th {\n",
       "        text-align: right;\n",
       "    }\n",
       "</style>\n",
       "<table border=\"1\" class=\"dataframe\">\n",
       "  <thead>\n",
       "    <tr style=\"text-align: right;\">\n",
       "      <th></th>\n",
       "      <th>hcp</th>\n",
       "      <th>specialty</th>\n",
       "      <th>region</th>\n",
       "      <th>brand</th>\n",
       "      <th>email_type</th>\n",
       "      <th>content_id</th>\n",
       "      <th>no. openings</th>\n",
       "      <th>no. clicks</th>\n",
       "      <th>time_sent</th>\n",
       "      <th>time_last_opened</th>\n",
       "      <th>time_last_clicked</th>\n",
       "    </tr>\n",
       "  </thead>\n",
       "  <tbody>\n",
       "    <tr>\n",
       "      <th>0</th>\n",
       "      <td>58555</td>\n",
       "      <td>General practicioner</td>\n",
       "      <td>region_0</td>\n",
       "      <td>brand_1</td>\n",
       "      <td>general</td>\n",
       "      <td>a3D6f0000019jMvEAI</td>\n",
       "      <td>1</td>\n",
       "      <td>0</td>\n",
       "      <td>2021-03-02 08:42:00</td>\n",
       "      <td>2021-03-02 08:45:00</td>\n",
       "      <td>NaN</td>\n",
       "    </tr>\n",
       "    <tr>\n",
       "      <th>1</th>\n",
       "      <td>819</td>\n",
       "      <td>General practicioner</td>\n",
       "      <td>region_1</td>\n",
       "      <td>brand_2</td>\n",
       "      <td>product_related</td>\n",
       "      <td>a3D6f0000019gA2EAI</td>\n",
       "      <td>0</td>\n",
       "      <td>0</td>\n",
       "      <td>2020-07-16 11:58:00</td>\n",
       "      <td>NaN</td>\n",
       "      <td>NaN</td>\n",
       "    </tr>\n",
       "    <tr>\n",
       "      <th>2</th>\n",
       "      <td>819</td>\n",
       "      <td>General practicioner</td>\n",
       "      <td>region_1</td>\n",
       "      <td>brand_2</td>\n",
       "      <td>general</td>\n",
       "      <td>a3D6f0000019jSnEAI</td>\n",
       "      <td>1</td>\n",
       "      <td>0</td>\n",
       "      <td>2020-08-17 14:47:00</td>\n",
       "      <td>2020-08-17 23:16:00</td>\n",
       "      <td>NaN</td>\n",
       "    </tr>\n",
       "    <tr>\n",
       "      <th>3</th>\n",
       "      <td>819</td>\n",
       "      <td>General practicioner</td>\n",
       "      <td>region_1</td>\n",
       "      <td>brand_1</td>\n",
       "      <td>product_related</td>\n",
       "      <td>a3D6f000000MtZ3EAK</td>\n",
       "      <td>0</td>\n",
       "      <td>0</td>\n",
       "      <td>2020-09-03 16:08:00</td>\n",
       "      <td>NaN</td>\n",
       "      <td>NaN</td>\n",
       "    </tr>\n",
       "    <tr>\n",
       "      <th>4</th>\n",
       "      <td>819</td>\n",
       "      <td>General practicioner</td>\n",
       "      <td>region_1</td>\n",
       "      <td>brand_1</td>\n",
       "      <td>general</td>\n",
       "      <td>a3D6f000000N0nhEAC</td>\n",
       "      <td>1</td>\n",
       "      <td>0</td>\n",
       "      <td>2020-10-16 13:35:00</td>\n",
       "      <td>2020-10-16 22:39:00</td>\n",
       "      <td>NaN</td>\n",
       "    </tr>\n",
       "  </tbody>\n",
       "</table>\n",
       "</div>"
      ],
      "text/plain": [
       "     hcp             specialty    region    brand       email_type  \\\n",
       "0  58555  General practicioner  region_0  brand_1          general   \n",
       "1    819  General practicioner  region_1  brand_2  product_related   \n",
       "2    819  General practicioner  region_1  brand_2          general   \n",
       "3    819  General practicioner  region_1  brand_1  product_related   \n",
       "4    819  General practicioner  region_1  brand_1          general   \n",
       "\n",
       "           content_id  no. openings  no. clicks            time_sent  \\\n",
       "0  a3D6f0000019jMvEAI             1           0  2021-03-02 08:42:00   \n",
       "1  a3D6f0000019gA2EAI             0           0  2020-07-16 11:58:00   \n",
       "2  a3D6f0000019jSnEAI             1           0  2020-08-17 14:47:00   \n",
       "3  a3D6f000000MtZ3EAK             0           0  2020-09-03 16:08:00   \n",
       "4  a3D6f000000N0nhEAC             1           0  2020-10-16 13:35:00   \n",
       "\n",
       "      time_last_opened time_last_clicked  \n",
       "0  2021-03-02 08:45:00               NaN  \n",
       "1                  NaN               NaN  \n",
       "2  2020-08-17 23:16:00               NaN  \n",
       "3                  NaN               NaN  \n",
       "4  2020-10-16 22:39:00               NaN  "
      ]
     },
     "execution_count": 6,
     "metadata": {},
     "output_type": "execute_result"
    }
   ],
   "source": [
    "rtes = pd.read_csv(os.path.join(raw_path, 'rtes.csv'))\n",
    "rtes.head()\n",
    "# ZI"
   ]
  },
  {
   "cell_type": "code",
   "execution_count": 95,
   "metadata": {},
   "outputs": [
    {
     "data": {
      "text/plain": [
       "PCA(n_components=10)"
      ]
     },
     "execution_count": 95,
     "metadata": {},
     "output_type": "execute_result"
    }
   ],
   "source": [
    "import numpy as np\n",
    "from sklearn.decomposition import PCA\n",
    "x = sales_train.groupby(['month', 'region']).sales.sum().unstack().reset_index().drop(columns = 'month')\n",
    "pca = PCA(n_components=10)\n",
    "pca.fit(x)"
   ]
  },
  {
   "cell_type": "code",
   "execution_count": 98,
   "metadata": {
    "scrolled": false
   },
   "outputs": [
    {
     "data": {
      "text/html": [
       "<div>\n",
       "<style scoped>\n",
       "    .dataframe tbody tr th:only-of-type {\n",
       "        vertical-align: middle;\n",
       "    }\n",
       "\n",
       "    .dataframe tbody tr th {\n",
       "        vertical-align: top;\n",
       "    }\n",
       "\n",
       "    .dataframe thead th {\n",
       "        text-align: right;\n",
       "    }\n",
       "</style>\n",
       "<table border=\"1\" class=\"dataframe\">\n",
       "  <thead>\n",
       "    <tr style=\"text-align: right;\">\n",
       "      <th></th>\n",
       "      <th>0</th>\n",
       "      <th>1</th>\n",
       "      <th>2</th>\n",
       "      <th>3</th>\n",
       "      <th>4</th>\n",
       "      <th>5</th>\n",
       "      <th>6</th>\n",
       "      <th>7</th>\n",
       "      <th>8</th>\n",
       "      <th>9</th>\n",
       "    </tr>\n",
       "  </thead>\n",
       "  <tbody>\n",
       "    <tr>\n",
       "      <th>0</th>\n",
       "      <td>2.423535e+04</td>\n",
       "      <td>-8069.872392</td>\n",
       "      <td>-56599.157374</td>\n",
       "      <td>190861.484679</td>\n",
       "      <td>223945.681611</td>\n",
       "      <td>-27106.175671</td>\n",
       "      <td>32031.337134</td>\n",
       "      <td>-143193.169774</td>\n",
       "      <td>-90544.401146</td>\n",
       "      <td>-105075.238605</td>\n",
       "    </tr>\n",
       "    <tr>\n",
       "      <th>1</th>\n",
       "      <td>-1.173367e+06</td>\n",
       "      <td>139232.904359</td>\n",
       "      <td>-62452.901391</td>\n",
       "      <td>340740.061773</td>\n",
       "      <td>-232175.280155</td>\n",
       "      <td>-116295.769173</td>\n",
       "      <td>-144153.314096</td>\n",
       "      <td>73915.638964</td>\n",
       "      <td>-206735.105774</td>\n",
       "      <td>-116149.671728</td>\n",
       "    </tr>\n",
       "    <tr>\n",
       "      <th>2</th>\n",
       "      <td>4.150740e+06</td>\n",
       "      <td>-487366.899560</td>\n",
       "      <td>-2873.304144</td>\n",
       "      <td>492844.946307</td>\n",
       "      <td>-51518.322917</td>\n",
       "      <td>-84739.122044</td>\n",
       "      <td>25497.415399</td>\n",
       "      <td>-41668.126224</td>\n",
       "      <td>-10543.762203</td>\n",
       "      <td>25892.161944</td>\n",
       "    </tr>\n",
       "    <tr>\n",
       "      <th>3</th>\n",
       "      <td>-4.647839e+05</td>\n",
       "      <td>195156.733201</td>\n",
       "      <td>-353236.326700</td>\n",
       "      <td>233935.655006</td>\n",
       "      <td>217528.726980</td>\n",
       "      <td>-42313.821291</td>\n",
       "      <td>90916.619487</td>\n",
       "      <td>118108.656400</td>\n",
       "      <td>45741.699503</td>\n",
       "      <td>55926.229280</td>\n",
       "    </tr>\n",
       "    <tr>\n",
       "      <th>4</th>\n",
       "      <td>-1.392092e+06</td>\n",
       "      <td>233357.974315</td>\n",
       "      <td>-7589.639146</td>\n",
       "      <td>238526.395515</td>\n",
       "      <td>-50365.074890</td>\n",
       "      <td>-16597.693822</td>\n",
       "      <td>61750.406099</td>\n",
       "      <td>-54220.799544</td>\n",
       "      <td>87696.056911</td>\n",
       "      <td>142357.826559</td>\n",
       "    </tr>\n",
       "    <tr>\n",
       "      <th>5</th>\n",
       "      <td>-9.471530e+05</td>\n",
       "      <td>10962.325393</td>\n",
       "      <td>479605.934698</td>\n",
       "      <td>141097.035890</td>\n",
       "      <td>110231.294395</td>\n",
       "      <td>-73919.005105</td>\n",
       "      <td>116007.998476</td>\n",
       "      <td>64253.833594</td>\n",
       "      <td>-6254.011041</td>\n",
       "      <td>68620.510264</td>\n",
       "    </tr>\n",
       "    <tr>\n",
       "      <th>6</th>\n",
       "      <td>3.747818e+03</td>\n",
       "      <td>813355.700020</td>\n",
       "      <td>-24952.006020</td>\n",
       "      <td>176753.374052</td>\n",
       "      <td>66162.191278</td>\n",
       "      <td>235822.061533</td>\n",
       "      <td>42277.633259</td>\n",
       "      <td>78278.124364</td>\n",
       "      <td>-81036.226055</td>\n",
       "      <td>54744.643828</td>\n",
       "    </tr>\n",
       "    <tr>\n",
       "      <th>7</th>\n",
       "      <td>-1.911164e+06</td>\n",
       "      <td>-603592.316534</td>\n",
       "      <td>-62023.145545</td>\n",
       "      <td>110245.687912</td>\n",
       "      <td>-47005.474708</td>\n",
       "      <td>-104281.826744</td>\n",
       "      <td>132782.191813</td>\n",
       "      <td>-35312.756125</td>\n",
       "      <td>165562.105788</td>\n",
       "      <td>-38097.873139</td>\n",
       "    </tr>\n",
       "    <tr>\n",
       "      <th>8</th>\n",
       "      <td>-6.089819e+05</td>\n",
       "      <td>30238.450290</td>\n",
       "      <td>569440.114061</td>\n",
       "      <td>52807.692688</td>\n",
       "      <td>81788.295418</td>\n",
       "      <td>68837.534708</td>\n",
       "      <td>-67497.544043</td>\n",
       "      <td>-57239.934066</td>\n",
       "      <td>37390.047849</td>\n",
       "      <td>-42885.801709</td>\n",
       "    </tr>\n",
       "    <tr>\n",
       "      <th>9</th>\n",
       "      <td>5.442431e+05</td>\n",
       "      <td>135960.446133</td>\n",
       "      <td>-267289.070102</td>\n",
       "      <td>-27812.671588</td>\n",
       "      <td>140474.781732</td>\n",
       "      <td>252983.263675</td>\n",
       "      <td>-166842.267280</td>\n",
       "      <td>-23033.550753</td>\n",
       "      <td>35651.531791</td>\n",
       "      <td>51636.684910</td>\n",
       "    </tr>\n",
       "    <tr>\n",
       "      <th>10</th>\n",
       "      <td>1.053389e+05</td>\n",
       "      <td>-99345.290799</td>\n",
       "      <td>261220.382243</td>\n",
       "      <td>-228416.895902</td>\n",
       "      <td>155381.196226</td>\n",
       "      <td>-119836.414434</td>\n",
       "      <td>-78881.129572</td>\n",
       "      <td>14556.735630</td>\n",
       "      <td>-113168.910779</td>\n",
       "      <td>-54825.097031</td>\n",
       "    </tr>\n",
       "    <tr>\n",
       "      <th>11</th>\n",
       "      <td>5.619923e+05</td>\n",
       "      <td>-48587.270023</td>\n",
       "      <td>173561.320853</td>\n",
       "      <td>64781.315626</td>\n",
       "      <td>-219192.331251</td>\n",
       "      <td>176828.140210</td>\n",
       "      <td>-141539.284033</td>\n",
       "      <td>19156.294181</td>\n",
       "      <td>234268.469664</td>\n",
       "      <td>-83313.435756</td>\n",
       "    </tr>\n",
       "    <tr>\n",
       "      <th>12</th>\n",
       "      <td>-6.798724e+05</td>\n",
       "      <td>17401.271745</td>\n",
       "      <td>-143108.872226</td>\n",
       "      <td>-197315.373202</td>\n",
       "      <td>263645.289208</td>\n",
       "      <td>-33233.097119</td>\n",
       "      <td>-67234.345334</td>\n",
       "      <td>-178704.238067</td>\n",
       "      <td>39459.797796</td>\n",
       "      <td>-98946.249300</td>\n",
       "    </tr>\n",
       "    <tr>\n",
       "      <th>13</th>\n",
       "      <td>-1.025075e+06</td>\n",
       "      <td>104664.796123</td>\n",
       "      <td>-155125.644307</td>\n",
       "      <td>-44047.753376</td>\n",
       "      <td>-235120.875345</td>\n",
       "      <td>-109801.509328</td>\n",
       "      <td>-163442.241994</td>\n",
       "      <td>49247.017885</td>\n",
       "      <td>24805.414247</td>\n",
       "      <td>-2964.159630</td>\n",
       "    </tr>\n",
       "    <tr>\n",
       "      <th>14</th>\n",
       "      <td>1.217651e+06</td>\n",
       "      <td>-192535.823744</td>\n",
       "      <td>182091.214924</td>\n",
       "      <td>-331786.688207</td>\n",
       "      <td>12451.280556</td>\n",
       "      <td>-24039.591546</td>\n",
       "      <td>-81750.733232</td>\n",
       "      <td>-59696.227721</td>\n",
       "      <td>-44396.570740</td>\n",
       "      <td>164983.514699</td>\n",
       "    </tr>\n",
       "    <tr>\n",
       "      <th>15</th>\n",
       "      <td>1.091318e+06</td>\n",
       "      <td>-57508.739694</td>\n",
       "      <td>-360188.927803</td>\n",
       "      <td>-276467.898935</td>\n",
       "      <td>148493.792422</td>\n",
       "      <td>-138062.264349</td>\n",
       "      <td>-5413.539755</td>\n",
       "      <td>205086.768191</td>\n",
       "      <td>85155.696436</td>\n",
       "      <td>-77772.217442</td>\n",
       "    </tr>\n",
       "    <tr>\n",
       "      <th>16</th>\n",
       "      <td>-3.964283e+05</td>\n",
       "      <td>-13997.921674</td>\n",
       "      <td>-157620.429239</td>\n",
       "      <td>-221396.028055</td>\n",
       "      <td>-140139.504550</td>\n",
       "      <td>-157584.993413</td>\n",
       "      <td>-49400.799640</td>\n",
       "      <td>-65454.661167</td>\n",
       "      <td>-39225.178260</td>\n",
       "      <td>202372.581084</td>\n",
       "    </tr>\n",
       "    <tr>\n",
       "      <th>17</th>\n",
       "      <td>4.181367e+05</td>\n",
       "      <td>-212179.641926</td>\n",
       "      <td>292722.829094</td>\n",
       "      <td>-286628.775672</td>\n",
       "      <td>-35529.364964</td>\n",
       "      <td>84300.270143</td>\n",
       "      <td>110239.849228</td>\n",
       "      <td>220363.382968</td>\n",
       "      <td>-35400.234119</td>\n",
       "      <td>-27728.179296</td>\n",
       "    </tr>\n",
       "    <tr>\n",
       "      <th>18</th>\n",
       "      <td>1.362858e+06</td>\n",
       "      <td>880171.486476</td>\n",
       "      <td>-31582.460625</td>\n",
       "      <td>-289828.301387</td>\n",
       "      <td>-257879.795161</td>\n",
       "      <td>-58203.133209</td>\n",
       "      <td>219496.646172</td>\n",
       "      <td>-134463.808644</td>\n",
       "      <td>18090.111911</td>\n",
       "      <td>-100649.347749</td>\n",
       "    </tr>\n",
       "    <tr>\n",
       "      <th>19</th>\n",
       "      <td>-8.813444e+05</td>\n",
       "      <td>-837318.311707</td>\n",
       "      <td>-273999.911252</td>\n",
       "      <td>-138893.263124</td>\n",
       "      <td>-151176.505883</td>\n",
       "      <td>287243.146981</td>\n",
       "      <td>135155.101911</td>\n",
       "      <td>-49979.180092</td>\n",
       "      <td>-146516.531779</td>\n",
       "      <td>-18126.881182</td>\n",
       "    </tr>\n",
       "  </tbody>\n",
       "</table>\n",
       "</div>"
      ],
      "text/plain": [
       "               0              1              2              3              4  \\\n",
       "0   2.423535e+04   -8069.872392  -56599.157374  190861.484679  223945.681611   \n",
       "1  -1.173367e+06  139232.904359  -62452.901391  340740.061773 -232175.280155   \n",
       "2   4.150740e+06 -487366.899560   -2873.304144  492844.946307  -51518.322917   \n",
       "3  -4.647839e+05  195156.733201 -353236.326700  233935.655006  217528.726980   \n",
       "4  -1.392092e+06  233357.974315   -7589.639146  238526.395515  -50365.074890   \n",
       "5  -9.471530e+05   10962.325393  479605.934698  141097.035890  110231.294395   \n",
       "6   3.747818e+03  813355.700020  -24952.006020  176753.374052   66162.191278   \n",
       "7  -1.911164e+06 -603592.316534  -62023.145545  110245.687912  -47005.474708   \n",
       "8  -6.089819e+05   30238.450290  569440.114061   52807.692688   81788.295418   \n",
       "9   5.442431e+05  135960.446133 -267289.070102  -27812.671588  140474.781732   \n",
       "10  1.053389e+05  -99345.290799  261220.382243 -228416.895902  155381.196226   \n",
       "11  5.619923e+05  -48587.270023  173561.320853   64781.315626 -219192.331251   \n",
       "12 -6.798724e+05   17401.271745 -143108.872226 -197315.373202  263645.289208   \n",
       "13 -1.025075e+06  104664.796123 -155125.644307  -44047.753376 -235120.875345   \n",
       "14  1.217651e+06 -192535.823744  182091.214924 -331786.688207   12451.280556   \n",
       "15  1.091318e+06  -57508.739694 -360188.927803 -276467.898935  148493.792422   \n",
       "16 -3.964283e+05  -13997.921674 -157620.429239 -221396.028055 -140139.504550   \n",
       "17  4.181367e+05 -212179.641926  292722.829094 -286628.775672  -35529.364964   \n",
       "18  1.362858e+06  880171.486476  -31582.460625 -289828.301387 -257879.795161   \n",
       "19 -8.813444e+05 -837318.311707 -273999.911252 -138893.263124 -151176.505883   \n",
       "\n",
       "                5              6              7              8              9  \n",
       "0   -27106.175671   32031.337134 -143193.169774  -90544.401146 -105075.238605  \n",
       "1  -116295.769173 -144153.314096   73915.638964 -206735.105774 -116149.671728  \n",
       "2   -84739.122044   25497.415399  -41668.126224  -10543.762203   25892.161944  \n",
       "3   -42313.821291   90916.619487  118108.656400   45741.699503   55926.229280  \n",
       "4   -16597.693822   61750.406099  -54220.799544   87696.056911  142357.826559  \n",
       "5   -73919.005105  116007.998476   64253.833594   -6254.011041   68620.510264  \n",
       "6   235822.061533   42277.633259   78278.124364  -81036.226055   54744.643828  \n",
       "7  -104281.826744  132782.191813  -35312.756125  165562.105788  -38097.873139  \n",
       "8    68837.534708  -67497.544043  -57239.934066   37390.047849  -42885.801709  \n",
       "9   252983.263675 -166842.267280  -23033.550753   35651.531791   51636.684910  \n",
       "10 -119836.414434  -78881.129572   14556.735630 -113168.910779  -54825.097031  \n",
       "11  176828.140210 -141539.284033   19156.294181  234268.469664  -83313.435756  \n",
       "12  -33233.097119  -67234.345334 -178704.238067   39459.797796  -98946.249300  \n",
       "13 -109801.509328 -163442.241994   49247.017885   24805.414247   -2964.159630  \n",
       "14  -24039.591546  -81750.733232  -59696.227721  -44396.570740  164983.514699  \n",
       "15 -138062.264349   -5413.539755  205086.768191   85155.696436  -77772.217442  \n",
       "16 -157584.993413  -49400.799640  -65454.661167  -39225.178260  202372.581084  \n",
       "17   84300.270143  110239.849228  220363.382968  -35400.234119  -27728.179296  \n",
       "18  -58203.133209  219496.646172 -134463.808644   18090.111911 -100649.347749  \n",
       "19  287243.146981  135155.101911  -49979.180092 -146516.531779  -18126.881182  "
      ]
     },
     "execution_count": 98,
     "metadata": {},
     "output_type": "execute_result"
    }
   ],
   "source": [
    "pd.DataFrame(pca.transform(x))"
   ]
  },
  {
   "cell_type": "code",
   "execution_count": 148,
   "metadata": {},
   "outputs": [
    {
     "data": {
      "application/vnd.plotly.v1+json": {
       "config": {
        "plotlyServerURL": "https://plot.ly"
       },
       "data": [
        {
         "hovertemplate": "month=%{x}<br>sales=%{y}<extra></extra>",
         "legendgroup": "",
         "line": {
          "color": "#636efa",
          "dash": "solid"
         },
         "marker": {
          "symbol": "circle"
         },
         "mode": "lines",
         "name": "",
         "orientation": "v",
         "showlegend": false,
         "type": "scatter",
         "x": [
          "2020-01",
          "2020-02",
          "2020-03",
          "2020-04",
          "2020-05",
          "2020-06",
          "2020-07",
          "2020-08",
          "2020-09",
          "2020-10",
          "2020-11",
          "2020-12",
          "2021-01",
          "2021-02",
          "2021-03",
          "2021-04",
          "2021-05",
          "2021-06",
          "2021-07",
          "2021-08"
         ],
         "xaxis": "x",
         "y": [
          0,
          0,
          0,
          0,
          0,
          0,
          0,
          0,
          765.55,
          1286.12,
          1653.59,
          1408.61,
          2021.05,
          1500.48,
          1837.32,
          1377.99,
          2021.05,
          2572.25,
          2204.78,
          3009.96
         ],
         "yaxis": "y"
        }
       ],
       "layout": {
        "legend": {
         "tracegroupgap": 0
        },
        "margin": {
         "t": 60
        },
        "template": {
         "data": {
          "bar": [
           {
            "error_x": {
             "color": "#2a3f5f"
            },
            "error_y": {
             "color": "#2a3f5f"
            },
            "marker": {
             "line": {
              "color": "#E5ECF6",
              "width": 0.5
             },
             "pattern": {
              "fillmode": "overlay",
              "size": 10,
              "solidity": 0.2
             }
            },
            "type": "bar"
           }
          ],
          "barpolar": [
           {
            "marker": {
             "line": {
              "color": "#E5ECF6",
              "width": 0.5
             },
             "pattern": {
              "fillmode": "overlay",
              "size": 10,
              "solidity": 0.2
             }
            },
            "type": "barpolar"
           }
          ],
          "carpet": [
           {
            "aaxis": {
             "endlinecolor": "#2a3f5f",
             "gridcolor": "white",
             "linecolor": "white",
             "minorgridcolor": "white",
             "startlinecolor": "#2a3f5f"
            },
            "baxis": {
             "endlinecolor": "#2a3f5f",
             "gridcolor": "white",
             "linecolor": "white",
             "minorgridcolor": "white",
             "startlinecolor": "#2a3f5f"
            },
            "type": "carpet"
           }
          ],
          "choropleth": [
           {
            "colorbar": {
             "outlinewidth": 0,
             "ticks": ""
            },
            "type": "choropleth"
           }
          ],
          "contour": [
           {
            "colorbar": {
             "outlinewidth": 0,
             "ticks": ""
            },
            "colorscale": [
             [
              0,
              "#0d0887"
             ],
             [
              0.1111111111111111,
              "#46039f"
             ],
             [
              0.2222222222222222,
              "#7201a8"
             ],
             [
              0.3333333333333333,
              "#9c179e"
             ],
             [
              0.4444444444444444,
              "#bd3786"
             ],
             [
              0.5555555555555556,
              "#d8576b"
             ],
             [
              0.6666666666666666,
              "#ed7953"
             ],
             [
              0.7777777777777778,
              "#fb9f3a"
             ],
             [
              0.8888888888888888,
              "#fdca26"
             ],
             [
              1,
              "#f0f921"
             ]
            ],
            "type": "contour"
           }
          ],
          "contourcarpet": [
           {
            "colorbar": {
             "outlinewidth": 0,
             "ticks": ""
            },
            "type": "contourcarpet"
           }
          ],
          "heatmap": [
           {
            "colorbar": {
             "outlinewidth": 0,
             "ticks": ""
            },
            "colorscale": [
             [
              0,
              "#0d0887"
             ],
             [
              0.1111111111111111,
              "#46039f"
             ],
             [
              0.2222222222222222,
              "#7201a8"
             ],
             [
              0.3333333333333333,
              "#9c179e"
             ],
             [
              0.4444444444444444,
              "#bd3786"
             ],
             [
              0.5555555555555556,
              "#d8576b"
             ],
             [
              0.6666666666666666,
              "#ed7953"
             ],
             [
              0.7777777777777778,
              "#fb9f3a"
             ],
             [
              0.8888888888888888,
              "#fdca26"
             ],
             [
              1,
              "#f0f921"
             ]
            ],
            "type": "heatmap"
           }
          ],
          "heatmapgl": [
           {
            "colorbar": {
             "outlinewidth": 0,
             "ticks": ""
            },
            "colorscale": [
             [
              0,
              "#0d0887"
             ],
             [
              0.1111111111111111,
              "#46039f"
             ],
             [
              0.2222222222222222,
              "#7201a8"
             ],
             [
              0.3333333333333333,
              "#9c179e"
             ],
             [
              0.4444444444444444,
              "#bd3786"
             ],
             [
              0.5555555555555556,
              "#d8576b"
             ],
             [
              0.6666666666666666,
              "#ed7953"
             ],
             [
              0.7777777777777778,
              "#fb9f3a"
             ],
             [
              0.8888888888888888,
              "#fdca26"
             ],
             [
              1,
              "#f0f921"
             ]
            ],
            "type": "heatmapgl"
           }
          ],
          "histogram": [
           {
            "marker": {
             "pattern": {
              "fillmode": "overlay",
              "size": 10,
              "solidity": 0.2
             }
            },
            "type": "histogram"
           }
          ],
          "histogram2d": [
           {
            "colorbar": {
             "outlinewidth": 0,
             "ticks": ""
            },
            "colorscale": [
             [
              0,
              "#0d0887"
             ],
             [
              0.1111111111111111,
              "#46039f"
             ],
             [
              0.2222222222222222,
              "#7201a8"
             ],
             [
              0.3333333333333333,
              "#9c179e"
             ],
             [
              0.4444444444444444,
              "#bd3786"
             ],
             [
              0.5555555555555556,
              "#d8576b"
             ],
             [
              0.6666666666666666,
              "#ed7953"
             ],
             [
              0.7777777777777778,
              "#fb9f3a"
             ],
             [
              0.8888888888888888,
              "#fdca26"
             ],
             [
              1,
              "#f0f921"
             ]
            ],
            "type": "histogram2d"
           }
          ],
          "histogram2dcontour": [
           {
            "colorbar": {
             "outlinewidth": 0,
             "ticks": ""
            },
            "colorscale": [
             [
              0,
              "#0d0887"
             ],
             [
              0.1111111111111111,
              "#46039f"
             ],
             [
              0.2222222222222222,
              "#7201a8"
             ],
             [
              0.3333333333333333,
              "#9c179e"
             ],
             [
              0.4444444444444444,
              "#bd3786"
             ],
             [
              0.5555555555555556,
              "#d8576b"
             ],
             [
              0.6666666666666666,
              "#ed7953"
             ],
             [
              0.7777777777777778,
              "#fb9f3a"
             ],
             [
              0.8888888888888888,
              "#fdca26"
             ],
             [
              1,
              "#f0f921"
             ]
            ],
            "type": "histogram2dcontour"
           }
          ],
          "mesh3d": [
           {
            "colorbar": {
             "outlinewidth": 0,
             "ticks": ""
            },
            "type": "mesh3d"
           }
          ],
          "parcoords": [
           {
            "line": {
             "colorbar": {
              "outlinewidth": 0,
              "ticks": ""
             }
            },
            "type": "parcoords"
           }
          ],
          "pie": [
           {
            "automargin": true,
            "type": "pie"
           }
          ],
          "scatter": [
           {
            "marker": {
             "colorbar": {
              "outlinewidth": 0,
              "ticks": ""
             }
            },
            "type": "scatter"
           }
          ],
          "scatter3d": [
           {
            "line": {
             "colorbar": {
              "outlinewidth": 0,
              "ticks": ""
             }
            },
            "marker": {
             "colorbar": {
              "outlinewidth": 0,
              "ticks": ""
             }
            },
            "type": "scatter3d"
           }
          ],
          "scattercarpet": [
           {
            "marker": {
             "colorbar": {
              "outlinewidth": 0,
              "ticks": ""
             }
            },
            "type": "scattercarpet"
           }
          ],
          "scattergeo": [
           {
            "marker": {
             "colorbar": {
              "outlinewidth": 0,
              "ticks": ""
             }
            },
            "type": "scattergeo"
           }
          ],
          "scattergl": [
           {
            "marker": {
             "colorbar": {
              "outlinewidth": 0,
              "ticks": ""
             }
            },
            "type": "scattergl"
           }
          ],
          "scattermapbox": [
           {
            "marker": {
             "colorbar": {
              "outlinewidth": 0,
              "ticks": ""
             }
            },
            "type": "scattermapbox"
           }
          ],
          "scatterpolar": [
           {
            "marker": {
             "colorbar": {
              "outlinewidth": 0,
              "ticks": ""
             }
            },
            "type": "scatterpolar"
           }
          ],
          "scatterpolargl": [
           {
            "marker": {
             "colorbar": {
              "outlinewidth": 0,
              "ticks": ""
             }
            },
            "type": "scatterpolargl"
           }
          ],
          "scatterternary": [
           {
            "marker": {
             "colorbar": {
              "outlinewidth": 0,
              "ticks": ""
             }
            },
            "type": "scatterternary"
           }
          ],
          "surface": [
           {
            "colorbar": {
             "outlinewidth": 0,
             "ticks": ""
            },
            "colorscale": [
             [
              0,
              "#0d0887"
             ],
             [
              0.1111111111111111,
              "#46039f"
             ],
             [
              0.2222222222222222,
              "#7201a8"
             ],
             [
              0.3333333333333333,
              "#9c179e"
             ],
             [
              0.4444444444444444,
              "#bd3786"
             ],
             [
              0.5555555555555556,
              "#d8576b"
             ],
             [
              0.6666666666666666,
              "#ed7953"
             ],
             [
              0.7777777777777778,
              "#fb9f3a"
             ],
             [
              0.8888888888888888,
              "#fdca26"
             ],
             [
              1,
              "#f0f921"
             ]
            ],
            "type": "surface"
           }
          ],
          "table": [
           {
            "cells": {
             "fill": {
              "color": "#EBF0F8"
             },
             "line": {
              "color": "white"
             }
            },
            "header": {
             "fill": {
              "color": "#C8D4E3"
             },
             "line": {
              "color": "white"
             }
            },
            "type": "table"
           }
          ]
         },
         "layout": {
          "annotationdefaults": {
           "arrowcolor": "#2a3f5f",
           "arrowhead": 0,
           "arrowwidth": 1
          },
          "autotypenumbers": "strict",
          "coloraxis": {
           "colorbar": {
            "outlinewidth": 0,
            "ticks": ""
           }
          },
          "colorscale": {
           "diverging": [
            [
             0,
             "#8e0152"
            ],
            [
             0.1,
             "#c51b7d"
            ],
            [
             0.2,
             "#de77ae"
            ],
            [
             0.3,
             "#f1b6da"
            ],
            [
             0.4,
             "#fde0ef"
            ],
            [
             0.5,
             "#f7f7f7"
            ],
            [
             0.6,
             "#e6f5d0"
            ],
            [
             0.7,
             "#b8e186"
            ],
            [
             0.8,
             "#7fbc41"
            ],
            [
             0.9,
             "#4d9221"
            ],
            [
             1,
             "#276419"
            ]
           ],
           "sequential": [
            [
             0,
             "#0d0887"
            ],
            [
             0.1111111111111111,
             "#46039f"
            ],
            [
             0.2222222222222222,
             "#7201a8"
            ],
            [
             0.3333333333333333,
             "#9c179e"
            ],
            [
             0.4444444444444444,
             "#bd3786"
            ],
            [
             0.5555555555555556,
             "#d8576b"
            ],
            [
             0.6666666666666666,
             "#ed7953"
            ],
            [
             0.7777777777777778,
             "#fb9f3a"
            ],
            [
             0.8888888888888888,
             "#fdca26"
            ],
            [
             1,
             "#f0f921"
            ]
           ],
           "sequentialminus": [
            [
             0,
             "#0d0887"
            ],
            [
             0.1111111111111111,
             "#46039f"
            ],
            [
             0.2222222222222222,
             "#7201a8"
            ],
            [
             0.3333333333333333,
             "#9c179e"
            ],
            [
             0.4444444444444444,
             "#bd3786"
            ],
            [
             0.5555555555555556,
             "#d8576b"
            ],
            [
             0.6666666666666666,
             "#ed7953"
            ],
            [
             0.7777777777777778,
             "#fb9f3a"
            ],
            [
             0.8888888888888888,
             "#fdca26"
            ],
            [
             1,
             "#f0f921"
            ]
           ]
          },
          "colorway": [
           "#636efa",
           "#EF553B",
           "#00cc96",
           "#ab63fa",
           "#FFA15A",
           "#19d3f3",
           "#FF6692",
           "#B6E880",
           "#FF97FF",
           "#FECB52"
          ],
          "font": {
           "color": "#2a3f5f"
          },
          "geo": {
           "bgcolor": "white",
           "lakecolor": "white",
           "landcolor": "#E5ECF6",
           "showlakes": true,
           "showland": true,
           "subunitcolor": "white"
          },
          "hoverlabel": {
           "align": "left"
          },
          "hovermode": "closest",
          "mapbox": {
           "style": "light"
          },
          "paper_bgcolor": "white",
          "plot_bgcolor": "#E5ECF6",
          "polar": {
           "angularaxis": {
            "gridcolor": "white",
            "linecolor": "white",
            "ticks": ""
           },
           "bgcolor": "#E5ECF6",
           "radialaxis": {
            "gridcolor": "white",
            "linecolor": "white",
            "ticks": ""
           }
          },
          "scene": {
           "xaxis": {
            "backgroundcolor": "#E5ECF6",
            "gridcolor": "white",
            "gridwidth": 2,
            "linecolor": "white",
            "showbackground": true,
            "ticks": "",
            "zerolinecolor": "white"
           },
           "yaxis": {
            "backgroundcolor": "#E5ECF6",
            "gridcolor": "white",
            "gridwidth": 2,
            "linecolor": "white",
            "showbackground": true,
            "ticks": "",
            "zerolinecolor": "white"
           },
           "zaxis": {
            "backgroundcolor": "#E5ECF6",
            "gridcolor": "white",
            "gridwidth": 2,
            "linecolor": "white",
            "showbackground": true,
            "ticks": "",
            "zerolinecolor": "white"
           }
          },
          "shapedefaults": {
           "line": {
            "color": "#2a3f5f"
           }
          },
          "ternary": {
           "aaxis": {
            "gridcolor": "white",
            "linecolor": "white",
            "ticks": ""
           },
           "baxis": {
            "gridcolor": "white",
            "linecolor": "white",
            "ticks": ""
           },
           "bgcolor": "#E5ECF6",
           "caxis": {
            "gridcolor": "white",
            "linecolor": "white",
            "ticks": ""
           }
          },
          "title": {
           "x": 0.05
          },
          "xaxis": {
           "automargin": true,
           "gridcolor": "white",
           "linecolor": "white",
           "ticks": "",
           "title": {
            "standoff": 15
           },
           "zerolinecolor": "white",
           "zerolinewidth": 2
          },
          "yaxis": {
           "automargin": true,
           "gridcolor": "white",
           "linecolor": "white",
           "ticks": "",
           "title": {
            "standoff": 15
           },
           "zerolinecolor": "white",
           "zerolinewidth": 2
          }
         }
        },
        "xaxis": {
         "anchor": "y",
         "domain": [
          0,
          1
         ],
         "title": {
          "text": "month"
         }
        },
        "yaxis": {
         "anchor": "x",
         "domain": [
          0,
          1
         ],
         "title": {
          "text": "sales"
         }
        }
       }
      },
      "text/html": [
       "<div>                            <div id=\"16f6c0c6-89a6-4431-b040-5426d51aa8ae\" class=\"plotly-graph-div\" style=\"height:525px; width:100%;\"></div>            <script type=\"text/javascript\">                require([\"plotly\"], function(Plotly) {                    window.PLOTLYENV=window.PLOTLYENV || {};                                    if (document.getElementById(\"16f6c0c6-89a6-4431-b040-5426d51aa8ae\")) {                    Plotly.newPlot(                        \"16f6c0c6-89a6-4431-b040-5426d51aa8ae\",                        [{\"hovertemplate\":\"month=%{x}<br>sales=%{y}<extra></extra>\",\"legendgroup\":\"\",\"line\":{\"color\":\"#636efa\",\"dash\":\"solid\"},\"marker\":{\"symbol\":\"circle\"},\"mode\":\"lines\",\"name\":\"\",\"orientation\":\"v\",\"showlegend\":false,\"type\":\"scatter\",\"x\":[\"2020-01\",\"2020-02\",\"2020-03\",\"2020-04\",\"2020-05\",\"2020-06\",\"2020-07\",\"2020-08\",\"2020-09\",\"2020-10\",\"2020-11\",\"2020-12\",\"2021-01\",\"2021-02\",\"2021-03\",\"2021-04\",\"2021-05\",\"2021-06\",\"2021-07\",\"2021-08\"],\"xaxis\":\"x\",\"y\":[0.0,0.0,0.0,0.0,0.0,0.0,0.0,0.0,765.55,1286.12,1653.59,1408.61,2021.05,1500.48,1837.32,1377.99,2021.05,2572.25,2204.78,3009.96],\"yaxis\":\"y\"}],                        {\"legend\":{\"tracegroupgap\":0},\"margin\":{\"t\":60},\"template\":{\"data\":{\"bar\":[{\"error_x\":{\"color\":\"#2a3f5f\"},\"error_y\":{\"color\":\"#2a3f5f\"},\"marker\":{\"line\":{\"color\":\"#E5ECF6\",\"width\":0.5},\"pattern\":{\"fillmode\":\"overlay\",\"size\":10,\"solidity\":0.2}},\"type\":\"bar\"}],\"barpolar\":[{\"marker\":{\"line\":{\"color\":\"#E5ECF6\",\"width\":0.5},\"pattern\":{\"fillmode\":\"overlay\",\"size\":10,\"solidity\":0.2}},\"type\":\"barpolar\"}],\"carpet\":[{\"aaxis\":{\"endlinecolor\":\"#2a3f5f\",\"gridcolor\":\"white\",\"linecolor\":\"white\",\"minorgridcolor\":\"white\",\"startlinecolor\":\"#2a3f5f\"},\"baxis\":{\"endlinecolor\":\"#2a3f5f\",\"gridcolor\":\"white\",\"linecolor\":\"white\",\"minorgridcolor\":\"white\",\"startlinecolor\":\"#2a3f5f\"},\"type\":\"carpet\"}],\"choropleth\":[{\"colorbar\":{\"outlinewidth\":0,\"ticks\":\"\"},\"type\":\"choropleth\"}],\"contour\":[{\"colorbar\":{\"outlinewidth\":0,\"ticks\":\"\"},\"colorscale\":[[0.0,\"#0d0887\"],[0.1111111111111111,\"#46039f\"],[0.2222222222222222,\"#7201a8\"],[0.3333333333333333,\"#9c179e\"],[0.4444444444444444,\"#bd3786\"],[0.5555555555555556,\"#d8576b\"],[0.6666666666666666,\"#ed7953\"],[0.7777777777777778,\"#fb9f3a\"],[0.8888888888888888,\"#fdca26\"],[1.0,\"#f0f921\"]],\"type\":\"contour\"}],\"contourcarpet\":[{\"colorbar\":{\"outlinewidth\":0,\"ticks\":\"\"},\"type\":\"contourcarpet\"}],\"heatmap\":[{\"colorbar\":{\"outlinewidth\":0,\"ticks\":\"\"},\"colorscale\":[[0.0,\"#0d0887\"],[0.1111111111111111,\"#46039f\"],[0.2222222222222222,\"#7201a8\"],[0.3333333333333333,\"#9c179e\"],[0.4444444444444444,\"#bd3786\"],[0.5555555555555556,\"#d8576b\"],[0.6666666666666666,\"#ed7953\"],[0.7777777777777778,\"#fb9f3a\"],[0.8888888888888888,\"#fdca26\"],[1.0,\"#f0f921\"]],\"type\":\"heatmap\"}],\"heatmapgl\":[{\"colorbar\":{\"outlinewidth\":0,\"ticks\":\"\"},\"colorscale\":[[0.0,\"#0d0887\"],[0.1111111111111111,\"#46039f\"],[0.2222222222222222,\"#7201a8\"],[0.3333333333333333,\"#9c179e\"],[0.4444444444444444,\"#bd3786\"],[0.5555555555555556,\"#d8576b\"],[0.6666666666666666,\"#ed7953\"],[0.7777777777777778,\"#fb9f3a\"],[0.8888888888888888,\"#fdca26\"],[1.0,\"#f0f921\"]],\"type\":\"heatmapgl\"}],\"histogram\":[{\"marker\":{\"pattern\":{\"fillmode\":\"overlay\",\"size\":10,\"solidity\":0.2}},\"type\":\"histogram\"}],\"histogram2d\":[{\"colorbar\":{\"outlinewidth\":0,\"ticks\":\"\"},\"colorscale\":[[0.0,\"#0d0887\"],[0.1111111111111111,\"#46039f\"],[0.2222222222222222,\"#7201a8\"],[0.3333333333333333,\"#9c179e\"],[0.4444444444444444,\"#bd3786\"],[0.5555555555555556,\"#d8576b\"],[0.6666666666666666,\"#ed7953\"],[0.7777777777777778,\"#fb9f3a\"],[0.8888888888888888,\"#fdca26\"],[1.0,\"#f0f921\"]],\"type\":\"histogram2d\"}],\"histogram2dcontour\":[{\"colorbar\":{\"outlinewidth\":0,\"ticks\":\"\"},\"colorscale\":[[0.0,\"#0d0887\"],[0.1111111111111111,\"#46039f\"],[0.2222222222222222,\"#7201a8\"],[0.3333333333333333,\"#9c179e\"],[0.4444444444444444,\"#bd3786\"],[0.5555555555555556,\"#d8576b\"],[0.6666666666666666,\"#ed7953\"],[0.7777777777777778,\"#fb9f3a\"],[0.8888888888888888,\"#fdca26\"],[1.0,\"#f0f921\"]],\"type\":\"histogram2dcontour\"}],\"mesh3d\":[{\"colorbar\":{\"outlinewidth\":0,\"ticks\":\"\"},\"type\":\"mesh3d\"}],\"parcoords\":[{\"line\":{\"colorbar\":{\"outlinewidth\":0,\"ticks\":\"\"}},\"type\":\"parcoords\"}],\"pie\":[{\"automargin\":true,\"type\":\"pie\"}],\"scatter\":[{\"marker\":{\"colorbar\":{\"outlinewidth\":0,\"ticks\":\"\"}},\"type\":\"scatter\"}],\"scatter3d\":[{\"line\":{\"colorbar\":{\"outlinewidth\":0,\"ticks\":\"\"}},\"marker\":{\"colorbar\":{\"outlinewidth\":0,\"ticks\":\"\"}},\"type\":\"scatter3d\"}],\"scattercarpet\":[{\"marker\":{\"colorbar\":{\"outlinewidth\":0,\"ticks\":\"\"}},\"type\":\"scattercarpet\"}],\"scattergeo\":[{\"marker\":{\"colorbar\":{\"outlinewidth\":0,\"ticks\":\"\"}},\"type\":\"scattergeo\"}],\"scattergl\":[{\"marker\":{\"colorbar\":{\"outlinewidth\":0,\"ticks\":\"\"}},\"type\":\"scattergl\"}],\"scattermapbox\":[{\"marker\":{\"colorbar\":{\"outlinewidth\":0,\"ticks\":\"\"}},\"type\":\"scattermapbox\"}],\"scatterpolar\":[{\"marker\":{\"colorbar\":{\"outlinewidth\":0,\"ticks\":\"\"}},\"type\":\"scatterpolar\"}],\"scatterpolargl\":[{\"marker\":{\"colorbar\":{\"outlinewidth\":0,\"ticks\":\"\"}},\"type\":\"scatterpolargl\"}],\"scatterternary\":[{\"marker\":{\"colorbar\":{\"outlinewidth\":0,\"ticks\":\"\"}},\"type\":\"scatterternary\"}],\"surface\":[{\"colorbar\":{\"outlinewidth\":0,\"ticks\":\"\"},\"colorscale\":[[0.0,\"#0d0887\"],[0.1111111111111111,\"#46039f\"],[0.2222222222222222,\"#7201a8\"],[0.3333333333333333,\"#9c179e\"],[0.4444444444444444,\"#bd3786\"],[0.5555555555555556,\"#d8576b\"],[0.6666666666666666,\"#ed7953\"],[0.7777777777777778,\"#fb9f3a\"],[0.8888888888888888,\"#fdca26\"],[1.0,\"#f0f921\"]],\"type\":\"surface\"}],\"table\":[{\"cells\":{\"fill\":{\"color\":\"#EBF0F8\"},\"line\":{\"color\":\"white\"}},\"header\":{\"fill\":{\"color\":\"#C8D4E3\"},\"line\":{\"color\":\"white\"}},\"type\":\"table\"}]},\"layout\":{\"annotationdefaults\":{\"arrowcolor\":\"#2a3f5f\",\"arrowhead\":0,\"arrowwidth\":1},\"autotypenumbers\":\"strict\",\"coloraxis\":{\"colorbar\":{\"outlinewidth\":0,\"ticks\":\"\"}},\"colorscale\":{\"diverging\":[[0,\"#8e0152\"],[0.1,\"#c51b7d\"],[0.2,\"#de77ae\"],[0.3,\"#f1b6da\"],[0.4,\"#fde0ef\"],[0.5,\"#f7f7f7\"],[0.6,\"#e6f5d0\"],[0.7,\"#b8e186\"],[0.8,\"#7fbc41\"],[0.9,\"#4d9221\"],[1,\"#276419\"]],\"sequential\":[[0.0,\"#0d0887\"],[0.1111111111111111,\"#46039f\"],[0.2222222222222222,\"#7201a8\"],[0.3333333333333333,\"#9c179e\"],[0.4444444444444444,\"#bd3786\"],[0.5555555555555556,\"#d8576b\"],[0.6666666666666666,\"#ed7953\"],[0.7777777777777778,\"#fb9f3a\"],[0.8888888888888888,\"#fdca26\"],[1.0,\"#f0f921\"]],\"sequentialminus\":[[0.0,\"#0d0887\"],[0.1111111111111111,\"#46039f\"],[0.2222222222222222,\"#7201a8\"],[0.3333333333333333,\"#9c179e\"],[0.4444444444444444,\"#bd3786\"],[0.5555555555555556,\"#d8576b\"],[0.6666666666666666,\"#ed7953\"],[0.7777777777777778,\"#fb9f3a\"],[0.8888888888888888,\"#fdca26\"],[1.0,\"#f0f921\"]]},\"colorway\":[\"#636efa\",\"#EF553B\",\"#00cc96\",\"#ab63fa\",\"#FFA15A\",\"#19d3f3\",\"#FF6692\",\"#B6E880\",\"#FF97FF\",\"#FECB52\"],\"font\":{\"color\":\"#2a3f5f\"},\"geo\":{\"bgcolor\":\"white\",\"lakecolor\":\"white\",\"landcolor\":\"#E5ECF6\",\"showlakes\":true,\"showland\":true,\"subunitcolor\":\"white\"},\"hoverlabel\":{\"align\":\"left\"},\"hovermode\":\"closest\",\"mapbox\":{\"style\":\"light\"},\"paper_bgcolor\":\"white\",\"plot_bgcolor\":\"#E5ECF6\",\"polar\":{\"angularaxis\":{\"gridcolor\":\"white\",\"linecolor\":\"white\",\"ticks\":\"\"},\"bgcolor\":\"#E5ECF6\",\"radialaxis\":{\"gridcolor\":\"white\",\"linecolor\":\"white\",\"ticks\":\"\"}},\"scene\":{\"xaxis\":{\"backgroundcolor\":\"#E5ECF6\",\"gridcolor\":\"white\",\"gridwidth\":2,\"linecolor\":\"white\",\"showbackground\":true,\"ticks\":\"\",\"zerolinecolor\":\"white\"},\"yaxis\":{\"backgroundcolor\":\"#E5ECF6\",\"gridcolor\":\"white\",\"gridwidth\":2,\"linecolor\":\"white\",\"showbackground\":true,\"ticks\":\"\",\"zerolinecolor\":\"white\"},\"zaxis\":{\"backgroundcolor\":\"#E5ECF6\",\"gridcolor\":\"white\",\"gridwidth\":2,\"linecolor\":\"white\",\"showbackground\":true,\"ticks\":\"\",\"zerolinecolor\":\"white\"}},\"shapedefaults\":{\"line\":{\"color\":\"#2a3f5f\"}},\"ternary\":{\"aaxis\":{\"gridcolor\":\"white\",\"linecolor\":\"white\",\"ticks\":\"\"},\"baxis\":{\"gridcolor\":\"white\",\"linecolor\":\"white\",\"ticks\":\"\"},\"bgcolor\":\"#E5ECF6\",\"caxis\":{\"gridcolor\":\"white\",\"linecolor\":\"white\",\"ticks\":\"\"}},\"title\":{\"x\":0.05},\"xaxis\":{\"automargin\":true,\"gridcolor\":\"white\",\"linecolor\":\"white\",\"ticks\":\"\",\"title\":{\"standoff\":15},\"zerolinecolor\":\"white\",\"zerolinewidth\":2},\"yaxis\":{\"automargin\":true,\"gridcolor\":\"white\",\"linecolor\":\"white\",\"ticks\":\"\",\"title\":{\"standoff\":15},\"zerolinecolor\":\"white\",\"zerolinewidth\":2}}},\"xaxis\":{\"anchor\":\"y\",\"domain\":[0.0,1.0],\"title\":{\"text\":\"month\"}},\"yaxis\":{\"anchor\":\"x\",\"domain\":[0.0,1.0],\"title\":{\"text\":\"sales\"}}},                        {\"responsive\": true}                    ).then(function(){\n",
       "                            \n",
       "var gd = document.getElementById('16f6c0c6-89a6-4431-b040-5426d51aa8ae');\n",
       "var x = new MutationObserver(function (mutations, observer) {{\n",
       "        var display = window.getComputedStyle(gd).display;\n",
       "        if (!display || display === 'none') {{\n",
       "            console.log([gd, 'removed!']);\n",
       "            Plotly.purge(gd);\n",
       "            observer.disconnect();\n",
       "        }}\n",
       "}});\n",
       "\n",
       "// Listen for the removal of the full notebook cells\n",
       "var notebookContainer = gd.closest('#notebook-container');\n",
       "if (notebookContainer) {{\n",
       "    x.observe(notebookContainer, {childList: true});\n",
       "}}\n",
       "\n",
       "// Listen for the clearing of the current output cell\n",
       "var outputEl = gd.closest('.output');\n",
       "if (outputEl) {{\n",
       "    x.observe(outputEl, {childList: true});\n",
       "}}\n",
       "\n",
       "                        })                };                });            </script>        </div>"
      ]
     },
     "metadata": {},
     "output_type": "display_data"
    }
   ],
   "source": [
    "import plotly.express as px\n",
    "\n",
    "region = 'region_1'\n",
    "brand = 'brand_1'\n",
    "\n",
    "fig = px.line(sales_train[(sales_train.region == region) & (sales_train.brand == brand)], x='month', y='sales')\n",
    "fig.show()"
   ]
  }
 ],
 "metadata": {
  "kernelspec": {
   "display_name": "Python 3",
   "language": "python",
   "name": "python3"
  },
  "language_info": {
   "codemirror_mode": {
    "name": "ipython",
    "version": 3
   },
   "file_extension": ".py",
   "mimetype": "text/x-python",
   "name": "python",
   "nbconvert_exporter": "python",
   "pygments_lexer": "ipython3",
   "version": "3.8.11"
  }
 },
 "nbformat": 4,
 "nbformat_minor": 5
}
