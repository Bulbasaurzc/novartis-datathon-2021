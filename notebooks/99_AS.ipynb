{
 "cells": [
  {
   "cell_type": "code",
   "execution_count": 1,
   "metadata": {},
   "outputs": [],
   "source": [
    "import sys\n",
    "sys.path.append('..')\n",
    "from src.utilities import *"
   ]
  },
  {
   "cell_type": "code",
   "execution_count": 11,
   "metadata": {},
   "outputs": [
    {
     "data": {
      "text/html": [
       "<div>\n",
       "<style scoped>\n",
       "    .dataframe tbody tr th:only-of-type {\n",
       "        vertical-align: middle;\n",
       "    }\n",
       "\n",
       "    .dataframe tbody tr th {\n",
       "        vertical-align: top;\n",
       "    }\n",
       "\n",
       "    .dataframe thead th {\n",
       "        text-align: right;\n",
       "    }\n",
       "</style>\n",
       "<table border=\"1\" class=\"dataframe\">\n",
       "  <thead>\n",
       "    <tr style=\"text-align: right;\">\n",
       "      <th></th>\n",
       "      <th>month</th>\n",
       "      <th>covid_cases_1mo</th>\n",
       "      <th>covid_newcases_1mo</th>\n",
       "      <th>covid_deaths_1mo</th>\n",
       "      <th>covid_newdeaths_1mo</th>\n",
       "      <th>covid_newtests_1mo</th>\n",
       "      <th>covid_tests_1mo</th>\n",
       "      <th>covid_peoplevacc_1mo</th>\n",
       "      <th>covid_newvacc_1mo</th>\n",
       "    </tr>\n",
       "  </thead>\n",
       "  <tbody>\n",
       "    <tr>\n",
       "      <th>0</th>\n",
       "      <td>2020-01</td>\n",
       "      <td>1.542090e+05</td>\n",
       "      <td>37493.0</td>\n",
       "      <td>3556.0</td>\n",
       "      <td>784.0</td>\n",
       "      <td>8194.0</td>\n",
       "      <td>9.964800e+04</td>\n",
       "      <td>0.000000e+00</td>\n",
       "      <td>0.000000e+00</td>\n",
       "    </tr>\n",
       "    <tr>\n",
       "      <th>1</th>\n",
       "      <td>2020-02</td>\n",
       "      <td>6.673463e+06</td>\n",
       "      <td>304362.0</td>\n",
       "      <td>187695.0</td>\n",
       "      <td>10939.0</td>\n",
       "      <td>153872.0</td>\n",
       "      <td>1.221804e+06</td>\n",
       "      <td>0.000000e+00</td>\n",
       "      <td>0.000000e+00</td>\n",
       "    </tr>\n",
       "    <tr>\n",
       "      <th>2</th>\n",
       "      <td>2020-03</td>\n",
       "      <td>3.973127e+07</td>\n",
       "      <td>3556401.0</td>\n",
       "      <td>1813090.0</td>\n",
       "      <td>194925.0</td>\n",
       "      <td>3987772.0</td>\n",
       "      <td>4.485939e+07</td>\n",
       "      <td>0.000000e+00</td>\n",
       "      <td>0.000000e+00</td>\n",
       "    </tr>\n",
       "    <tr>\n",
       "      <th>3</th>\n",
       "      <td>2020-04</td>\n",
       "      <td>2.769202e+08</td>\n",
       "      <td>10210208.0</td>\n",
       "      <td>19762000.0</td>\n",
       "      <td>861685.0</td>\n",
       "      <td>20206992.0</td>\n",
       "      <td>4.406604e+08</td>\n",
       "      <td>0.000000e+00</td>\n",
       "      <td>0.000000e+00</td>\n",
       "    </tr>\n",
       "    <tr>\n",
       "      <th>4</th>\n",
       "      <td>2020-05</td>\n",
       "      <td>6.145964e+08</td>\n",
       "      <td>11797996.0</td>\n",
       "      <td>43627966.0</td>\n",
       "      <td>621741.0</td>\n",
       "      <td>40316572.0</td>\n",
       "      <td>1.436135e+09</td>\n",
       "      <td>0.000000e+00</td>\n",
       "      <td>0.000000e+00</td>\n",
       "    </tr>\n",
       "    <tr>\n",
       "      <th>5</th>\n",
       "      <td>2020-06</td>\n",
       "      <td>1.023002e+09</td>\n",
       "      <td>17195710.0</td>\n",
       "      <td>59787512.0</td>\n",
       "      <td>586966.0</td>\n",
       "      <td>55230908.0</td>\n",
       "      <td>2.930091e+09</td>\n",
       "      <td>0.000000e+00</td>\n",
       "      <td>0.000000e+00</td>\n",
       "    </tr>\n",
       "    <tr>\n",
       "      <th>6</th>\n",
       "      <td>2020-07</td>\n",
       "      <td>1.769151e+09</td>\n",
       "      <td>28755446.0</td>\n",
       "      <td>81404100.0</td>\n",
       "      <td>706954.0</td>\n",
       "      <td>77738090.0</td>\n",
       "      <td>4.948463e+09</td>\n",
       "      <td>0.000000e+00</td>\n",
       "      <td>0.000000e+00</td>\n",
       "    </tr>\n",
       "    <tr>\n",
       "      <th>7</th>\n",
       "      <td>2020-08</td>\n",
       "      <td>2.738228e+09</td>\n",
       "      <td>32091310.0</td>\n",
       "      <td>104584436.0</td>\n",
       "      <td>737648.0</td>\n",
       "      <td>98155824.0</td>\n",
       "      <td>7.876141e+09</td>\n",
       "      <td>0.000000e+00</td>\n",
       "      <td>0.000000e+00</td>\n",
       "    </tr>\n",
       "    <tr>\n",
       "      <th>8</th>\n",
       "      <td>2020-09</td>\n",
       "      <td>3.650763e+09</td>\n",
       "      <td>35018513.0</td>\n",
       "      <td>122484210.0</td>\n",
       "      <td>667659.0</td>\n",
       "      <td>117933297.0</td>\n",
       "      <td>1.067827e+10</td>\n",
       "      <td>0.000000e+00</td>\n",
       "      <td>0.000000e+00</td>\n",
       "    </tr>\n",
       "    <tr>\n",
       "      <th>9</th>\n",
       "      <td>2020-10</td>\n",
       "      <td>5.048875e+09</td>\n",
       "      <td>52018958.0</td>\n",
       "      <td>148352005.0</td>\n",
       "      <td>764676.0</td>\n",
       "      <td>149989985.0</td>\n",
       "      <td>1.484500e+10</td>\n",
       "      <td>0.000000e+00</td>\n",
       "      <td>0.000000e+00</td>\n",
       "    </tr>\n",
       "    <tr>\n",
       "      <th>10</th>\n",
       "      <td>2020-11</td>\n",
       "      <td>6.882244e+09</td>\n",
       "      <td>74645791.0</td>\n",
       "      <td>172741747.0</td>\n",
       "      <td>1199101.0</td>\n",
       "      <td>165686266.0</td>\n",
       "      <td>1.945133e+10</td>\n",
       "      <td>0.000000e+00</td>\n",
       "      <td>0.000000e+00</td>\n",
       "    </tr>\n",
       "    <tr>\n",
       "      <th>11</th>\n",
       "      <td>2020-12</td>\n",
       "      <td>9.619071e+09</td>\n",
       "      <td>81846067.0</td>\n",
       "      <td>221782817.0</td>\n",
       "      <td>1524738.0</td>\n",
       "      <td>184463453.0</td>\n",
       "      <td>2.500062e+10</td>\n",
       "      <td>1.892589e+08</td>\n",
       "      <td>3.980620e+07</td>\n",
       "    </tr>\n",
       "    <tr>\n",
       "      <th>12</th>\n",
       "      <td>2021-01</td>\n",
       "      <td>1.224402e+10</td>\n",
       "      <td>82408226.0</td>\n",
       "      <td>271878676.0</td>\n",
       "      <td>1769938.0</td>\n",
       "      <td>193855472.0</td>\n",
       "      <td>3.078752e+10</td>\n",
       "      <td>4.094982e+09</td>\n",
       "      <td>3.646102e+08</td>\n",
       "    </tr>\n",
       "    <tr>\n",
       "      <th>13</th>\n",
       "      <td>2021-02</td>\n",
       "      <td>1.284224e+10</td>\n",
       "      <td>47929300.0</td>\n",
       "      <td>291177258.0</td>\n",
       "      <td>1319145.0</td>\n",
       "      <td>162731109.0</td>\n",
       "      <td>3.206376e+10</td>\n",
       "      <td>1.237627e+10</td>\n",
       "      <td>6.298870e+08</td>\n",
       "    </tr>\n",
       "    <tr>\n",
       "      <th>14</th>\n",
       "      <td>2021-03</td>\n",
       "      <td>1.583786e+10</td>\n",
       "      <td>63514992.0</td>\n",
       "      <td>360193175.0</td>\n",
       "      <td>1271057.0</td>\n",
       "      <td>217570651.0</td>\n",
       "      <td>3.981509e+10</td>\n",
       "      <td>3.168995e+10</td>\n",
       "      <td>1.404982e+09</td>\n",
       "    </tr>\n",
       "    <tr>\n",
       "      <th>15</th>\n",
       "      <td>2021-04</td>\n",
       "      <td>1.770779e+10</td>\n",
       "      <td>94144514.0</td>\n",
       "      <td>391044300.0</td>\n",
       "      <td>1586528.0</td>\n",
       "      <td>231771865.0</td>\n",
       "      <td>4.671510e+10</td>\n",
       "      <td>6.007747e+10</td>\n",
       "      <td>2.190159e+09</td>\n",
       "    </tr>\n",
       "    <tr>\n",
       "      <th>16</th>\n",
       "      <td>2021-05</td>\n",
       "      <td>2.119186e+10</td>\n",
       "      <td>80545499.0</td>\n",
       "      <td>454941380.0</td>\n",
       "      <td>1555308.0</td>\n",
       "      <td>233416947.0</td>\n",
       "      <td>5.576576e+10</td>\n",
       "      <td>9.247074e+10</td>\n",
       "      <td>3.250990e+09</td>\n",
       "    </tr>\n",
       "    <tr>\n",
       "      <th>17</th>\n",
       "      <td>2021-06</td>\n",
       "      <td>2.226260e+10</td>\n",
       "      <td>46448892.0</td>\n",
       "      <td>480974673.0</td>\n",
       "      <td>1130287.0</td>\n",
       "      <td>229959671.0</td>\n",
       "      <td>6.057691e+10</td>\n",
       "      <td>1.678668e+11</td>\n",
       "      <td>4.618313e+09</td>\n",
       "    </tr>\n",
       "    <tr>\n",
       "      <th>18</th>\n",
       "      <td>2021-07</td>\n",
       "      <td>2.462763e+10</td>\n",
       "      <td>64363020.0</td>\n",
       "      <td>529423353.0</td>\n",
       "      <td>1047856.0</td>\n",
       "      <td>227282335.0</td>\n",
       "      <td>6.628644e+10</td>\n",
       "      <td>2.376843e+11</td>\n",
       "      <td>4.216505e+09</td>\n",
       "    </tr>\n",
       "    <tr>\n",
       "      <th>19</th>\n",
       "      <td>2021-08</td>\n",
       "      <td>2.697292e+10</td>\n",
       "      <td>81642019.0</td>\n",
       "      <td>565640359.0</td>\n",
       "      <td>1209909.0</td>\n",
       "      <td>247068075.0</td>\n",
       "      <td>7.100384e+10</td>\n",
       "      <td>2.963427e+11</td>\n",
       "      <td>4.651890e+09</td>\n",
       "    </tr>\n",
       "    <tr>\n",
       "      <th>20</th>\n",
       "      <td>2021-09</td>\n",
       "      <td>2.836674e+10</td>\n",
       "      <td>64750165.0</td>\n",
       "      <td>582353884.0</td>\n",
       "      <td>1075190.0</td>\n",
       "      <td>248583628.0</td>\n",
       "      <td>7.558243e+10</td>\n",
       "      <td>3.738571e+11</td>\n",
       "      <td>3.620656e+09</td>\n",
       "    </tr>\n",
       "    <tr>\n",
       "      <th>21</th>\n",
       "      <td>2021-10</td>\n",
       "      <td>3.108911e+10</td>\n",
       "      <td>54197997.0</td>\n",
       "      <td>631457759.0</td>\n",
       "      <td>891349.0</td>\n",
       "      <td>229023203.0</td>\n",
       "      <td>8.491774e+10</td>\n",
       "      <td>4.254785e+11</td>\n",
       "      <td>3.011127e+09</td>\n",
       "    </tr>\n",
       "    <tr>\n",
       "      <th>22</th>\n",
       "      <td>2021-11</td>\n",
       "      <td>2.642457e+10</td>\n",
       "      <td>56332548.0</td>\n",
       "      <td>529906582.0</td>\n",
       "      <td>765329.0</td>\n",
       "      <td>160429164.0</td>\n",
       "      <td>6.169302e+10</td>\n",
       "      <td>3.709042e+11</td>\n",
       "      <td>2.907436e+09</td>\n",
       "    </tr>\n",
       "  </tbody>\n",
       "</table>\n",
       "</div>"
      ],
      "text/plain": [
       "      month  covid_cases_1mo  covid_newcases_1mo  covid_deaths_1mo  \\\n",
       "0   2020-01     1.542090e+05             37493.0            3556.0   \n",
       "1   2020-02     6.673463e+06            304362.0          187695.0   \n",
       "2   2020-03     3.973127e+07           3556401.0         1813090.0   \n",
       "3   2020-04     2.769202e+08          10210208.0        19762000.0   \n",
       "4   2020-05     6.145964e+08          11797996.0        43627966.0   \n",
       "5   2020-06     1.023002e+09          17195710.0        59787512.0   \n",
       "6   2020-07     1.769151e+09          28755446.0        81404100.0   \n",
       "7   2020-08     2.738228e+09          32091310.0       104584436.0   \n",
       "8   2020-09     3.650763e+09          35018513.0       122484210.0   \n",
       "9   2020-10     5.048875e+09          52018958.0       148352005.0   \n",
       "10  2020-11     6.882244e+09          74645791.0       172741747.0   \n",
       "11  2020-12     9.619071e+09          81846067.0       221782817.0   \n",
       "12  2021-01     1.224402e+10          82408226.0       271878676.0   \n",
       "13  2021-02     1.284224e+10          47929300.0       291177258.0   \n",
       "14  2021-03     1.583786e+10          63514992.0       360193175.0   \n",
       "15  2021-04     1.770779e+10          94144514.0       391044300.0   \n",
       "16  2021-05     2.119186e+10          80545499.0       454941380.0   \n",
       "17  2021-06     2.226260e+10          46448892.0       480974673.0   \n",
       "18  2021-07     2.462763e+10          64363020.0       529423353.0   \n",
       "19  2021-08     2.697292e+10          81642019.0       565640359.0   \n",
       "20  2021-09     2.836674e+10          64750165.0       582353884.0   \n",
       "21  2021-10     3.108911e+10          54197997.0       631457759.0   \n",
       "22  2021-11     2.642457e+10          56332548.0       529906582.0   \n",
       "\n",
       "    covid_newdeaths_1mo  covid_newtests_1mo  covid_tests_1mo  \\\n",
       "0                 784.0              8194.0     9.964800e+04   \n",
       "1               10939.0            153872.0     1.221804e+06   \n",
       "2              194925.0           3987772.0     4.485939e+07   \n",
       "3              861685.0          20206992.0     4.406604e+08   \n",
       "4              621741.0          40316572.0     1.436135e+09   \n",
       "5              586966.0          55230908.0     2.930091e+09   \n",
       "6              706954.0          77738090.0     4.948463e+09   \n",
       "7              737648.0          98155824.0     7.876141e+09   \n",
       "8              667659.0         117933297.0     1.067827e+10   \n",
       "9              764676.0         149989985.0     1.484500e+10   \n",
       "10            1199101.0         165686266.0     1.945133e+10   \n",
       "11            1524738.0         184463453.0     2.500062e+10   \n",
       "12            1769938.0         193855472.0     3.078752e+10   \n",
       "13            1319145.0         162731109.0     3.206376e+10   \n",
       "14            1271057.0         217570651.0     3.981509e+10   \n",
       "15            1586528.0         231771865.0     4.671510e+10   \n",
       "16            1555308.0         233416947.0     5.576576e+10   \n",
       "17            1130287.0         229959671.0     6.057691e+10   \n",
       "18            1047856.0         227282335.0     6.628644e+10   \n",
       "19            1209909.0         247068075.0     7.100384e+10   \n",
       "20            1075190.0         248583628.0     7.558243e+10   \n",
       "21             891349.0         229023203.0     8.491774e+10   \n",
       "22             765329.0         160429164.0     6.169302e+10   \n",
       "\n",
       "    covid_peoplevacc_1mo  covid_newvacc_1mo  \n",
       "0           0.000000e+00       0.000000e+00  \n",
       "1           0.000000e+00       0.000000e+00  \n",
       "2           0.000000e+00       0.000000e+00  \n",
       "3           0.000000e+00       0.000000e+00  \n",
       "4           0.000000e+00       0.000000e+00  \n",
       "5           0.000000e+00       0.000000e+00  \n",
       "6           0.000000e+00       0.000000e+00  \n",
       "7           0.000000e+00       0.000000e+00  \n",
       "8           0.000000e+00       0.000000e+00  \n",
       "9           0.000000e+00       0.000000e+00  \n",
       "10          0.000000e+00       0.000000e+00  \n",
       "11          1.892589e+08       3.980620e+07  \n",
       "12          4.094982e+09       3.646102e+08  \n",
       "13          1.237627e+10       6.298870e+08  \n",
       "14          3.168995e+10       1.404982e+09  \n",
       "15          6.007747e+10       2.190159e+09  \n",
       "16          9.247074e+10       3.250990e+09  \n",
       "17          1.678668e+11       4.618313e+09  \n",
       "18          2.376843e+11       4.216505e+09  \n",
       "19          2.963427e+11       4.651890e+09  \n",
       "20          3.738571e+11       3.620656e+09  \n",
       "21          4.254785e+11       3.011127e+09  \n",
       "22          3.709042e+11       2.907436e+09  "
      ]
     },
     "execution_count": 11,
     "metadata": {},
     "output_type": "execute_result"
    }
   ],
   "source": [
    "\n",
    "covid_data"
   ]
  },
  {
   "cell_type": "code",
   "execution_count": null,
   "metadata": {},
   "outputs": [],
   "source": [
    "covid_data"
   ]
  },
  {
   "cell_type": "code",
   "execution_count": 2,
   "metadata": {},
   "outputs": [
    {
     "data": {
      "text/html": [
       "<div>\n",
       "<style scoped>\n",
       "    .dataframe tbody tr th:only-of-type {\n",
       "        vertical-align: middle;\n",
       "    }\n",
       "\n",
       "    .dataframe tbody tr th {\n",
       "        vertical-align: top;\n",
       "    }\n",
       "\n",
       "    .dataframe thead th {\n",
       "        text-align: right;\n",
       "    }\n",
       "</style>\n",
       "<table border=\"1\" class=\"dataframe\">\n",
       "  <thead>\n",
       "    <tr style=\"text-align: right;\">\n",
       "      <th></th>\n",
       "      <th>hcp</th>\n",
       "      <th>specialty</th>\n",
       "      <th>region</th>\n",
       "      <th>brand</th>\n",
       "      <th>month</th>\n",
       "      <th>channel</th>\n",
       "      <th>count</th>\n",
       "    </tr>\n",
       "  </thead>\n",
       "  <tbody>\n",
       "    <tr>\n",
       "      <th>0</th>\n",
       "      <td>39972</td>\n",
       "      <td>Internal medicine / pneumology</td>\n",
       "      <td>region_61</td>\n",
       "      <td>brand_1</td>\n",
       "      <td>2020-05</td>\n",
       "      <td>video</td>\n",
       "      <td>1</td>\n",
       "    </tr>\n",
       "    <tr>\n",
       "      <th>1</th>\n",
       "      <td>64026</td>\n",
       "      <td>General practicioner</td>\n",
       "      <td>region_168</td>\n",
       "      <td>brand_2</td>\n",
       "      <td>2020-05</td>\n",
       "      <td>phone</td>\n",
       "      <td>1</td>\n",
       "    </tr>\n",
       "    <tr>\n",
       "      <th>2</th>\n",
       "      <td>27892</td>\n",
       "      <td>Internal medicine</td>\n",
       "      <td>region_26</td>\n",
       "      <td>brand_2</td>\n",
       "      <td>2020-06</td>\n",
       "      <td>phone</td>\n",
       "      <td>1</td>\n",
       "    </tr>\n",
       "    <tr>\n",
       "      <th>3</th>\n",
       "      <td>33500</td>\n",
       "      <td>General practicioner</td>\n",
       "      <td>region_26</td>\n",
       "      <td>brand_2</td>\n",
       "      <td>2020-06</td>\n",
       "      <td>phone</td>\n",
       "      <td>1</td>\n",
       "    </tr>\n",
       "    <tr>\n",
       "      <th>4</th>\n",
       "      <td>61239</td>\n",
       "      <td>General practicioner</td>\n",
       "      <td>region_26</td>\n",
       "      <td>brand_2</td>\n",
       "      <td>2020-06</td>\n",
       "      <td>phone</td>\n",
       "      <td>1</td>\n",
       "    </tr>\n",
       "  </tbody>\n",
       "</table>\n",
       "</div>"
      ],
      "text/plain": [
       "     hcp                       specialty      region    brand    month  \\\n",
       "0  39972  Internal medicine / pneumology   region_61  brand_1  2020-05   \n",
       "1  64026            General practicioner  region_168  brand_2  2020-05   \n",
       "2  27892               Internal medicine   region_26  brand_2  2020-06   \n",
       "3  33500            General practicioner   region_26  brand_2  2020-06   \n",
       "4  61239            General practicioner   region_26  brand_2  2020-06   \n",
       "\n",
       "  channel  count  \n",
       "0   video      1  \n",
       "1   phone      1  \n",
       "2   phone      1  \n",
       "3   phone      1  \n",
       "4   phone      1  "
      ]
     },
     "execution_count": 2,
     "metadata": {},
     "output_type": "execute_result"
    }
   ],
   "source": [
    "activity = pd.read_csv(os.path.join(raw_path, 'activity.csv'))\n",
    "activity.head()\n",
    "\n",
    "# ZI"
   ]
  },
  {
   "cell_type": "code",
   "execution_count": 3,
   "metadata": {},
   "outputs": [
    {
     "data": {
      "text/html": [
       "<div>\n",
       "<style scoped>\n",
       "    .dataframe tbody tr th:only-of-type {\n",
       "        vertical-align: middle;\n",
       "    }\n",
       "\n",
       "    .dataframe tbody tr th {\n",
       "        vertical-align: top;\n",
       "    }\n",
       "\n",
       "    .dataframe thead th {\n",
       "        text-align: right;\n",
       "    }\n",
       "</style>\n",
       "<table border=\"1\" class=\"dataframe\">\n",
       "  <thead>\n",
       "    <tr style=\"text-align: right;\">\n",
       "      <th></th>\n",
       "      <th>hcp</th>\n",
       "      <th>tier</th>\n",
       "      <th>region</th>\n",
       "      <th>specialty</th>\n",
       "    </tr>\n",
       "  </thead>\n",
       "  <tbody>\n",
       "    <tr>\n",
       "      <th>0</th>\n",
       "      <td>83</td>\n",
       "      <td>2</td>\n",
       "      <td>region_59</td>\n",
       "      <td>Internal medicine</td>\n",
       "    </tr>\n",
       "    <tr>\n",
       "      <th>1</th>\n",
       "      <td>112</td>\n",
       "      <td>1</td>\n",
       "      <td>region_103</td>\n",
       "      <td>Internal medicine</td>\n",
       "    </tr>\n",
       "    <tr>\n",
       "      <th>2</th>\n",
       "      <td>307</td>\n",
       "      <td>2</td>\n",
       "      <td>region_33</td>\n",
       "      <td>Internal medicine / pneumology</td>\n",
       "    </tr>\n",
       "    <tr>\n",
       "      <th>3</th>\n",
       "      <td>387</td>\n",
       "      <td>2</td>\n",
       "      <td>region_97</td>\n",
       "      <td>Internal medicine / pneumology</td>\n",
       "    </tr>\n",
       "    <tr>\n",
       "      <th>4</th>\n",
       "      <td>426</td>\n",
       "      <td>1</td>\n",
       "      <td>region_118</td>\n",
       "      <td>General practicioner</td>\n",
       "    </tr>\n",
       "  </tbody>\n",
       "</table>\n",
       "</div>"
      ],
      "text/plain": [
       "   hcp  tier      region                       specialty\n",
       "0   83     2   region_59               Internal medicine\n",
       "1  112     1  region_103               Internal medicine\n",
       "2  307     2   region_33  Internal medicine / pneumology\n",
       "3  387     2   region_97  Internal medicine / pneumology\n",
       "4  426     1  region_118            General practicioner"
      ]
     },
     "execution_count": 3,
     "metadata": {},
     "output_type": "execute_result"
    }
   ],
   "source": [
    "hcps = pd.read_csv(os.path.join(raw_path, 'hcps.csv'))\n",
    "hcps.head()\n",
    "\n",
    "# ZI"
   ]
  },
  {
   "cell_type": "code",
   "execution_count": 6,
   "metadata": {},
   "outputs": [
    {
     "data": {
      "text/html": [
       "<div>\n",
       "<style scoped>\n",
       "    .dataframe tbody tr th:only-of-type {\n",
       "        vertical-align: middle;\n",
       "    }\n",
       "\n",
       "    .dataframe tbody tr th {\n",
       "        vertical-align: top;\n",
       "    }\n",
       "\n",
       "    .dataframe thead th {\n",
       "        text-align: right;\n",
       "    }\n",
       "</style>\n",
       "<table border=\"1\" class=\"dataframe\">\n",
       "  <thead>\n",
       "    <tr style=\"text-align: right;\">\n",
       "      <th></th>\n",
       "      <th>hcp</th>\n",
       "      <th>specialty</th>\n",
       "      <th>region</th>\n",
       "      <th>brand</th>\n",
       "      <th>email_type</th>\n",
       "      <th>content_id</th>\n",
       "      <th>no. openings</th>\n",
       "      <th>no. clicks</th>\n",
       "      <th>time_sent</th>\n",
       "      <th>time_last_opened</th>\n",
       "      <th>time_last_clicked</th>\n",
       "    </tr>\n",
       "  </thead>\n",
       "  <tbody>\n",
       "    <tr>\n",
       "      <th>0</th>\n",
       "      <td>58555</td>\n",
       "      <td>General practicioner</td>\n",
       "      <td>region_0</td>\n",
       "      <td>brand_1</td>\n",
       "      <td>general</td>\n",
       "      <td>a3D6f0000019jMvEAI</td>\n",
       "      <td>1</td>\n",
       "      <td>0</td>\n",
       "      <td>2021-03-02 08:42:00</td>\n",
       "      <td>2021-03-02 08:45:00</td>\n",
       "      <td>NaN</td>\n",
       "    </tr>\n",
       "    <tr>\n",
       "      <th>1</th>\n",
       "      <td>819</td>\n",
       "      <td>General practicioner</td>\n",
       "      <td>region_1</td>\n",
       "      <td>brand_2</td>\n",
       "      <td>product_related</td>\n",
       "      <td>a3D6f0000019gA2EAI</td>\n",
       "      <td>0</td>\n",
       "      <td>0</td>\n",
       "      <td>2020-07-16 11:58:00</td>\n",
       "      <td>NaN</td>\n",
       "      <td>NaN</td>\n",
       "    </tr>\n",
       "    <tr>\n",
       "      <th>2</th>\n",
       "      <td>819</td>\n",
       "      <td>General practicioner</td>\n",
       "      <td>region_1</td>\n",
       "      <td>brand_2</td>\n",
       "      <td>general</td>\n",
       "      <td>a3D6f0000019jSnEAI</td>\n",
       "      <td>1</td>\n",
       "      <td>0</td>\n",
       "      <td>2020-08-17 14:47:00</td>\n",
       "      <td>2020-08-17 23:16:00</td>\n",
       "      <td>NaN</td>\n",
       "    </tr>\n",
       "    <tr>\n",
       "      <th>3</th>\n",
       "      <td>819</td>\n",
       "      <td>General practicioner</td>\n",
       "      <td>region_1</td>\n",
       "      <td>brand_1</td>\n",
       "      <td>product_related</td>\n",
       "      <td>a3D6f000000MtZ3EAK</td>\n",
       "      <td>0</td>\n",
       "      <td>0</td>\n",
       "      <td>2020-09-03 16:08:00</td>\n",
       "      <td>NaN</td>\n",
       "      <td>NaN</td>\n",
       "    </tr>\n",
       "    <tr>\n",
       "      <th>4</th>\n",
       "      <td>819</td>\n",
       "      <td>General practicioner</td>\n",
       "      <td>region_1</td>\n",
       "      <td>brand_1</td>\n",
       "      <td>general</td>\n",
       "      <td>a3D6f000000N0nhEAC</td>\n",
       "      <td>1</td>\n",
       "      <td>0</td>\n",
       "      <td>2020-10-16 13:35:00</td>\n",
       "      <td>2020-10-16 22:39:00</td>\n",
       "      <td>NaN</td>\n",
       "    </tr>\n",
       "  </tbody>\n",
       "</table>\n",
       "</div>"
      ],
      "text/plain": [
       "     hcp             specialty    region    brand       email_type  \\\n",
       "0  58555  General practicioner  region_0  brand_1          general   \n",
       "1    819  General practicioner  region_1  brand_2  product_related   \n",
       "2    819  General practicioner  region_1  brand_2          general   \n",
       "3    819  General practicioner  region_1  brand_1  product_related   \n",
       "4    819  General practicioner  region_1  brand_1          general   \n",
       "\n",
       "           content_id  no. openings  no. clicks            time_sent  \\\n",
       "0  a3D6f0000019jMvEAI             1           0  2021-03-02 08:42:00   \n",
       "1  a3D6f0000019gA2EAI             0           0  2020-07-16 11:58:00   \n",
       "2  a3D6f0000019jSnEAI             1           0  2020-08-17 14:47:00   \n",
       "3  a3D6f000000MtZ3EAK             0           0  2020-09-03 16:08:00   \n",
       "4  a3D6f000000N0nhEAC             1           0  2020-10-16 13:35:00   \n",
       "\n",
       "      time_last_opened time_last_clicked  \n",
       "0  2021-03-02 08:45:00               NaN  \n",
       "1                  NaN               NaN  \n",
       "2  2020-08-17 23:16:00               NaN  \n",
       "3                  NaN               NaN  \n",
       "4  2020-10-16 22:39:00               NaN  "
      ]
     },
     "execution_count": 6,
     "metadata": {},
     "output_type": "execute_result"
    }
   ],
   "source": [
    "rtes = pd.read_csv(os.path.join(raw_path, 'rtes.csv'))\n",
    "rtes.head()\n",
    "\n",
    "# ZI"
   ]
  },
  {
   "cell_type": "code",
   "execution_count": null,
   "metadata": {},
   "outputs": [],
   "source": []
  },
  {
   "cell_type": "code",
   "execution_count": 95,
   "metadata": {},
   "outputs": [
    {
     "data": {
      "text/plain": [
       "PCA(n_components=10)"
      ]
     },
     "execution_count": 95,
     "metadata": {},
     "output_type": "execute_result"
    }
   ],
   "source": [
    "import numpy as np\n",
    "from sklearn.decomposition import PCA\n",
    "x = sales_train.groupby(['month', 'region']).sales.sum().unstack().reset_index().drop(columns = 'month')\n",
    "pca = PCA(n_components=10)\n",
    "pca.fit(x)"
   ]
  },
  {
   "cell_type": "code",
   "execution_count": 98,
   "metadata": {
    "scrolled": false
   },
   "outputs": [
    {
     "data": {
      "text/html": [
       "<div>\n",
       "<style scoped>\n",
       "    .dataframe tbody tr th:only-of-type {\n",
       "        vertical-align: middle;\n",
       "    }\n",
       "\n",
       "    .dataframe tbody tr th {\n",
       "        vertical-align: top;\n",
       "    }\n",
       "\n",
       "    .dataframe thead th {\n",
       "        text-align: right;\n",
       "    }\n",
       "</style>\n",
       "<table border=\"1\" class=\"dataframe\">\n",
       "  <thead>\n",
       "    <tr style=\"text-align: right;\">\n",
       "      <th></th>\n",
       "      <th>0</th>\n",
       "      <th>1</th>\n",
       "      <th>2</th>\n",
       "      <th>3</th>\n",
       "      <th>4</th>\n",
       "      <th>5</th>\n",
       "      <th>6</th>\n",
       "      <th>7</th>\n",
       "      <th>8</th>\n",
       "      <th>9</th>\n",
       "    </tr>\n",
       "  </thead>\n",
       "  <tbody>\n",
       "    <tr>\n",
       "      <th>0</th>\n",
       "      <td>2.423535e+04</td>\n",
       "      <td>-8069.872392</td>\n",
       "      <td>-56599.157374</td>\n",
       "      <td>190861.484679</td>\n",
       "      <td>223945.681611</td>\n",
       "      <td>-27106.175671</td>\n",
       "      <td>32031.337134</td>\n",
       "      <td>-143193.169774</td>\n",
       "      <td>-90544.401146</td>\n",
       "      <td>-105075.238605</td>\n",
       "    </tr>\n",
       "    <tr>\n",
       "      <th>1</th>\n",
       "      <td>-1.173367e+06</td>\n",
       "      <td>139232.904359</td>\n",
       "      <td>-62452.901391</td>\n",
       "      <td>340740.061773</td>\n",
       "      <td>-232175.280155</td>\n",
       "      <td>-116295.769173</td>\n",
       "      <td>-144153.314096</td>\n",
       "      <td>73915.638964</td>\n",
       "      <td>-206735.105774</td>\n",
       "      <td>-116149.671728</td>\n",
       "    </tr>\n",
       "    <tr>\n",
       "      <th>2</th>\n",
       "      <td>4.150740e+06</td>\n",
       "      <td>-487366.899560</td>\n",
       "      <td>-2873.304144</td>\n",
       "      <td>492844.946307</td>\n",
       "      <td>-51518.322917</td>\n",
       "      <td>-84739.122044</td>\n",
       "      <td>25497.415399</td>\n",
       "      <td>-41668.126224</td>\n",
       "      <td>-10543.762203</td>\n",
       "      <td>25892.161944</td>\n",
       "    </tr>\n",
       "    <tr>\n",
       "      <th>3</th>\n",
       "      <td>-4.647839e+05</td>\n",
       "      <td>195156.733201</td>\n",
       "      <td>-353236.326700</td>\n",
       "      <td>233935.655006</td>\n",
       "      <td>217528.726980</td>\n",
       "      <td>-42313.821291</td>\n",
       "      <td>90916.619487</td>\n",
       "      <td>118108.656400</td>\n",
       "      <td>45741.699503</td>\n",
       "      <td>55926.229280</td>\n",
       "    </tr>\n",
       "    <tr>\n",
       "      <th>4</th>\n",
       "      <td>-1.392092e+06</td>\n",
       "      <td>233357.974315</td>\n",
       "      <td>-7589.639146</td>\n",
       "      <td>238526.395515</td>\n",
       "      <td>-50365.074890</td>\n",
       "      <td>-16597.693822</td>\n",
       "      <td>61750.406099</td>\n",
       "      <td>-54220.799544</td>\n",
       "      <td>87696.056911</td>\n",
       "      <td>142357.826559</td>\n",
       "    </tr>\n",
       "    <tr>\n",
       "      <th>5</th>\n",
       "      <td>-9.471530e+05</td>\n",
       "      <td>10962.325393</td>\n",
       "      <td>479605.934698</td>\n",
       "      <td>141097.035890</td>\n",
       "      <td>110231.294395</td>\n",
       "      <td>-73919.005105</td>\n",
       "      <td>116007.998476</td>\n",
       "      <td>64253.833594</td>\n",
       "      <td>-6254.011041</td>\n",
       "      <td>68620.510264</td>\n",
       "    </tr>\n",
       "    <tr>\n",
       "      <th>6</th>\n",
       "      <td>3.747818e+03</td>\n",
       "      <td>813355.700020</td>\n",
       "      <td>-24952.006020</td>\n",
       "      <td>176753.374052</td>\n",
       "      <td>66162.191278</td>\n",
       "      <td>235822.061533</td>\n",
       "      <td>42277.633259</td>\n",
       "      <td>78278.124364</td>\n",
       "      <td>-81036.226055</td>\n",
       "      <td>54744.643828</td>\n",
       "    </tr>\n",
       "    <tr>\n",
       "      <th>7</th>\n",
       "      <td>-1.911164e+06</td>\n",
       "      <td>-603592.316534</td>\n",
       "      <td>-62023.145545</td>\n",
       "      <td>110245.687912</td>\n",
       "      <td>-47005.474708</td>\n",
       "      <td>-104281.826744</td>\n",
       "      <td>132782.191813</td>\n",
       "      <td>-35312.756125</td>\n",
       "      <td>165562.105788</td>\n",
       "      <td>-38097.873139</td>\n",
       "    </tr>\n",
       "    <tr>\n",
       "      <th>8</th>\n",
       "      <td>-6.089819e+05</td>\n",
       "      <td>30238.450290</td>\n",
       "      <td>569440.114061</td>\n",
       "      <td>52807.692688</td>\n",
       "      <td>81788.295418</td>\n",
       "      <td>68837.534708</td>\n",
       "      <td>-67497.544043</td>\n",
       "      <td>-57239.934066</td>\n",
       "      <td>37390.047849</td>\n",
       "      <td>-42885.801709</td>\n",
       "    </tr>\n",
       "    <tr>\n",
       "      <th>9</th>\n",
       "      <td>5.442431e+05</td>\n",
       "      <td>135960.446133</td>\n",
       "      <td>-267289.070102</td>\n",
       "      <td>-27812.671588</td>\n",
       "      <td>140474.781732</td>\n",
       "      <td>252983.263675</td>\n",
       "      <td>-166842.267280</td>\n",
       "      <td>-23033.550753</td>\n",
       "      <td>35651.531791</td>\n",
       "      <td>51636.684910</td>\n",
       "    </tr>\n",
       "    <tr>\n",
       "      <th>10</th>\n",
       "      <td>1.053389e+05</td>\n",
       "      <td>-99345.290799</td>\n",
       "      <td>261220.382243</td>\n",
       "      <td>-228416.895902</td>\n",
       "      <td>155381.196226</td>\n",
       "      <td>-119836.414434</td>\n",
       "      <td>-78881.129572</td>\n",
       "      <td>14556.735630</td>\n",
       "      <td>-113168.910779</td>\n",
       "      <td>-54825.097031</td>\n",
       "    </tr>\n",
       "    <tr>\n",
       "      <th>11</th>\n",
       "      <td>5.619923e+05</td>\n",
       "      <td>-48587.270023</td>\n",
       "      <td>173561.320853</td>\n",
       "      <td>64781.315626</td>\n",
       "      <td>-219192.331251</td>\n",
       "      <td>176828.140210</td>\n",
       "      <td>-141539.284033</td>\n",
       "      <td>19156.294181</td>\n",
       "      <td>234268.469664</td>\n",
       "      <td>-83313.435756</td>\n",
       "    </tr>\n",
       "    <tr>\n",
       "      <th>12</th>\n",
       "      <td>-6.798724e+05</td>\n",
       "      <td>17401.271745</td>\n",
       "      <td>-143108.872226</td>\n",
       "      <td>-197315.373202</td>\n",
       "      <td>263645.289208</td>\n",
       "      <td>-33233.097119</td>\n",
       "      <td>-67234.345334</td>\n",
       "      <td>-178704.238067</td>\n",
       "      <td>39459.797796</td>\n",
       "      <td>-98946.249300</td>\n",
       "    </tr>\n",
       "    <tr>\n",
       "      <th>13</th>\n",
       "      <td>-1.025075e+06</td>\n",
       "      <td>104664.796123</td>\n",
       "      <td>-155125.644307</td>\n",
       "      <td>-44047.753376</td>\n",
       "      <td>-235120.875345</td>\n",
       "      <td>-109801.509328</td>\n",
       "      <td>-163442.241994</td>\n",
       "      <td>49247.017885</td>\n",
       "      <td>24805.414247</td>\n",
       "      <td>-2964.159630</td>\n",
       "    </tr>\n",
       "    <tr>\n",
       "      <th>14</th>\n",
       "      <td>1.217651e+06</td>\n",
       "      <td>-192535.823744</td>\n",
       "      <td>182091.214924</td>\n",
       "      <td>-331786.688207</td>\n",
       "      <td>12451.280556</td>\n",
       "      <td>-24039.591546</td>\n",
       "      <td>-81750.733232</td>\n",
       "      <td>-59696.227721</td>\n",
       "      <td>-44396.570740</td>\n",
       "      <td>164983.514699</td>\n",
       "    </tr>\n",
       "    <tr>\n",
       "      <th>15</th>\n",
       "      <td>1.091318e+06</td>\n",
       "      <td>-57508.739694</td>\n",
       "      <td>-360188.927803</td>\n",
       "      <td>-276467.898935</td>\n",
       "      <td>148493.792422</td>\n",
       "      <td>-138062.264349</td>\n",
       "      <td>-5413.539755</td>\n",
       "      <td>205086.768191</td>\n",
       "      <td>85155.696436</td>\n",
       "      <td>-77772.217442</td>\n",
       "    </tr>\n",
       "    <tr>\n",
       "      <th>16</th>\n",
       "      <td>-3.964283e+05</td>\n",
       "      <td>-13997.921674</td>\n",
       "      <td>-157620.429239</td>\n",
       "      <td>-221396.028055</td>\n",
       "      <td>-140139.504550</td>\n",
       "      <td>-157584.993413</td>\n",
       "      <td>-49400.799640</td>\n",
       "      <td>-65454.661167</td>\n",
       "      <td>-39225.178260</td>\n",
       "      <td>202372.581084</td>\n",
       "    </tr>\n",
       "    <tr>\n",
       "      <th>17</th>\n",
       "      <td>4.181367e+05</td>\n",
       "      <td>-212179.641926</td>\n",
       "      <td>292722.829094</td>\n",
       "      <td>-286628.775672</td>\n",
       "      <td>-35529.364964</td>\n",
       "      <td>84300.270143</td>\n",
       "      <td>110239.849228</td>\n",
       "      <td>220363.382968</td>\n",
       "      <td>-35400.234119</td>\n",
       "      <td>-27728.179296</td>\n",
       "    </tr>\n",
       "    <tr>\n",
       "      <th>18</th>\n",
       "      <td>1.362858e+06</td>\n",
       "      <td>880171.486476</td>\n",
       "      <td>-31582.460625</td>\n",
       "      <td>-289828.301387</td>\n",
       "      <td>-257879.795161</td>\n",
       "      <td>-58203.133209</td>\n",
       "      <td>219496.646172</td>\n",
       "      <td>-134463.808644</td>\n",
       "      <td>18090.111911</td>\n",
       "      <td>-100649.347749</td>\n",
       "    </tr>\n",
       "    <tr>\n",
       "      <th>19</th>\n",
       "      <td>-8.813444e+05</td>\n",
       "      <td>-837318.311707</td>\n",
       "      <td>-273999.911252</td>\n",
       "      <td>-138893.263124</td>\n",
       "      <td>-151176.505883</td>\n",
       "      <td>287243.146981</td>\n",
       "      <td>135155.101911</td>\n",
       "      <td>-49979.180092</td>\n",
       "      <td>-146516.531779</td>\n",
       "      <td>-18126.881182</td>\n",
       "    </tr>\n",
       "  </tbody>\n",
       "</table>\n",
       "</div>"
      ],
      "text/plain": [
       "               0              1              2              3              4  \\\n",
       "0   2.423535e+04   -8069.872392  -56599.157374  190861.484679  223945.681611   \n",
       "1  -1.173367e+06  139232.904359  -62452.901391  340740.061773 -232175.280155   \n",
       "2   4.150740e+06 -487366.899560   -2873.304144  492844.946307  -51518.322917   \n",
       "3  -4.647839e+05  195156.733201 -353236.326700  233935.655006  217528.726980   \n",
       "4  -1.392092e+06  233357.974315   -7589.639146  238526.395515  -50365.074890   \n",
       "5  -9.471530e+05   10962.325393  479605.934698  141097.035890  110231.294395   \n",
       "6   3.747818e+03  813355.700020  -24952.006020  176753.374052   66162.191278   \n",
       "7  -1.911164e+06 -603592.316534  -62023.145545  110245.687912  -47005.474708   \n",
       "8  -6.089819e+05   30238.450290  569440.114061   52807.692688   81788.295418   \n",
       "9   5.442431e+05  135960.446133 -267289.070102  -27812.671588  140474.781732   \n",
       "10  1.053389e+05  -99345.290799  261220.382243 -228416.895902  155381.196226   \n",
       "11  5.619923e+05  -48587.270023  173561.320853   64781.315626 -219192.331251   \n",
       "12 -6.798724e+05   17401.271745 -143108.872226 -197315.373202  263645.289208   \n",
       "13 -1.025075e+06  104664.796123 -155125.644307  -44047.753376 -235120.875345   \n",
       "14  1.217651e+06 -192535.823744  182091.214924 -331786.688207   12451.280556   \n",
       "15  1.091318e+06  -57508.739694 -360188.927803 -276467.898935  148493.792422   \n",
       "16 -3.964283e+05  -13997.921674 -157620.429239 -221396.028055 -140139.504550   \n",
       "17  4.181367e+05 -212179.641926  292722.829094 -286628.775672  -35529.364964   \n",
       "18  1.362858e+06  880171.486476  -31582.460625 -289828.301387 -257879.795161   \n",
       "19 -8.813444e+05 -837318.311707 -273999.911252 -138893.263124 -151176.505883   \n",
       "\n",
       "                5              6              7              8              9  \n",
       "0   -27106.175671   32031.337134 -143193.169774  -90544.401146 -105075.238605  \n",
       "1  -116295.769173 -144153.314096   73915.638964 -206735.105774 -116149.671728  \n",
       "2   -84739.122044   25497.415399  -41668.126224  -10543.762203   25892.161944  \n",
       "3   -42313.821291   90916.619487  118108.656400   45741.699503   55926.229280  \n",
       "4   -16597.693822   61750.406099  -54220.799544   87696.056911  142357.826559  \n",
       "5   -73919.005105  116007.998476   64253.833594   -6254.011041   68620.510264  \n",
       "6   235822.061533   42277.633259   78278.124364  -81036.226055   54744.643828  \n",
       "7  -104281.826744  132782.191813  -35312.756125  165562.105788  -38097.873139  \n",
       "8    68837.534708  -67497.544043  -57239.934066   37390.047849  -42885.801709  \n",
       "9   252983.263675 -166842.267280  -23033.550753   35651.531791   51636.684910  \n",
       "10 -119836.414434  -78881.129572   14556.735630 -113168.910779  -54825.097031  \n",
       "11  176828.140210 -141539.284033   19156.294181  234268.469664  -83313.435756  \n",
       "12  -33233.097119  -67234.345334 -178704.238067   39459.797796  -98946.249300  \n",
       "13 -109801.509328 -163442.241994   49247.017885   24805.414247   -2964.159630  \n",
       "14  -24039.591546  -81750.733232  -59696.227721  -44396.570740  164983.514699  \n",
       "15 -138062.264349   -5413.539755  205086.768191   85155.696436  -77772.217442  \n",
       "16 -157584.993413  -49400.799640  -65454.661167  -39225.178260  202372.581084  \n",
       "17   84300.270143  110239.849228  220363.382968  -35400.234119  -27728.179296  \n",
       "18  -58203.133209  219496.646172 -134463.808644   18090.111911 -100649.347749  \n",
       "19  287243.146981  135155.101911  -49979.180092 -146516.531779  -18126.881182  "
      ]
     },
     "execution_count": 98,
     "metadata": {},
     "output_type": "execute_result"
    }
   ],
   "source": [
    "pd.DataFrame(pca.transform(x))"
   ]
  },
  {
   "cell_type": "code",
   "execution_count": 25,
   "metadata": {},
   "outputs": [
    {
     "ename": "ModuleNotFoundError",
     "evalue": "No module named 'fbprophet'",
     "output_type": "error",
     "traceback": [
      "\u001b[1;31m---------------------------------------------------------------------------\u001b[0m",
      "\u001b[1;31mModuleNotFoundError\u001b[0m                       Traceback (most recent call last)",
      "\u001b[1;32mC:\\Users\\ALEJAN~1\\AppData\\Local\\Temp/ipykernel_22904/3629864545.py\u001b[0m in \u001b[0;36m<module>\u001b[1;34m\u001b[0m\n\u001b[1;32m----> 1\u001b[1;33m \u001b[1;32mfrom\u001b[0m \u001b[0mfbprophet\u001b[0m \u001b[1;32mimport\u001b[0m \u001b[0mProphet\u001b[0m\u001b[1;33m\u001b[0m\u001b[1;33m\u001b[0m\u001b[0m\n\u001b[0m\u001b[0;32m      2\u001b[0m \u001b[1;32mfrom\u001b[0m \u001b[0mfbprophet\u001b[0m\u001b[1;33m.\u001b[0m\u001b[0mplot\u001b[0m \u001b[1;32mimport\u001b[0m \u001b[0mplot_plotly\u001b[0m\u001b[1;33m\u001b[0m\u001b[1;33m\u001b[0m\u001b[0m\n\u001b[0;32m      3\u001b[0m \u001b[1;33m\u001b[0m\u001b[0m\n\u001b[0;32m      4\u001b[0m \u001b[1;31m# region = 'region_1'\u001b[0m\u001b[1;33m\u001b[0m\u001b[1;33m\u001b[0m\u001b[1;33m\u001b[0m\u001b[0m\n\u001b[0;32m      5\u001b[0m \u001b[1;31m# brand = 'brand_1'\u001b[0m\u001b[1;33m\u001b[0m\u001b[1;33m\u001b[0m\u001b[1;33m\u001b[0m\u001b[0m\n",
      "\u001b[1;31mModuleNotFoundError\u001b[0m: No module named 'fbprophet'"
     ]
    }
   ],
   "source": [
    "from fbprophet import Prophet\n",
    "from fbprophet.plot import plot_plotly\n",
    "\n",
    "# region = 'region_1'\n",
    "# brand = 'brand_1'\n",
    "\n",
    "# train = pd.DataFrame({'ds': sales_train[(sales_train.region == region) & (sales_train.brand == brand)].month,\n",
    "#                       'y': sales_train[(sales_train.region == region) & (sales_train.brand == brand)].y\n",
    "#                      })\n",
    "# m = Prophet(yearly_seasonality=True)\n",
    "# m.fit(train)\n",
    "\n",
    "# forecast = m.predict(train)"
   ]
  },
  {
   "cell_type": "code",
   "execution_count": 148,
   "metadata": {},
   "outputs": [
    {
     "data": {
      "application/vnd.plotly.v1+json": {
       "config": {
        "plotlyServerURL": "https://plot.ly"
       },
       "data": [
        {
         "hovertemplate": "month=%{x}<br>sales=%{y}<extra></extra>",
         "legendgroup": "",
         "line": {
          "color": "#636efa",
          "dash": "solid"
         },
         "marker": {
          "symbol": "circle"
         },
         "mode": "lines",
         "name": "",
         "orientation": "v",
         "showlegend": false,
         "type": "scatter",
         "x": [
          "2020-01",
          "2020-02",
          "2020-03",
          "2020-04",
          "2020-05",
          "2020-06",
          "2020-07",
          "2020-08",
          "2020-09",
          "2020-10",
          "2020-11",
          "2020-12",
          "2021-01",
          "2021-02",
          "2021-03",
          "2021-04",
          "2021-05",
          "2021-06",
          "2021-07",
          "2021-08"
         ],
         "xaxis": "x",
         "y": [
          0,
          0,
          0,
          0,
          0,
          0,
          0,
          0,
          765.55,
          1286.12,
          1653.59,
          1408.61,
          2021.05,
          1500.48,
          1837.32,
          1377.99,
          2021.05,
          2572.25,
          2204.78,
          3009.96
         ],
         "yaxis": "y"
        }
       ],
       "layout": {
        "legend": {
         "tracegroupgap": 0
        },
        "margin": {
         "t": 60
        },
        "template": {
         "data": {
          "bar": [
           {
            "error_x": {
             "color": "#2a3f5f"
            },
            "error_y": {
             "color": "#2a3f5f"
            },
            "marker": {
             "line": {
              "color": "#E5ECF6",
              "width": 0.5
             },
             "pattern": {
              "fillmode": "overlay",
              "size": 10,
              "solidity": 0.2
             }
            },
            "type": "bar"
           }
          ],
          "barpolar": [
           {
            "marker": {
             "line": {
              "color": "#E5ECF6",
              "width": 0.5
             },
             "pattern": {
              "fillmode": "overlay",
              "size": 10,
              "solidity": 0.2
             }
            },
            "type": "barpolar"
           }
          ],
          "carpet": [
           {
            "aaxis": {
             "endlinecolor": "#2a3f5f",
             "gridcolor": "white",
             "linecolor": "white",
             "minorgridcolor": "white",
             "startlinecolor": "#2a3f5f"
            },
            "baxis": {
             "endlinecolor": "#2a3f5f",
             "gridcolor": "white",
             "linecolor": "white",
             "minorgridcolor": "white",
             "startlinecolor": "#2a3f5f"
            },
            "type": "carpet"
           }
          ],
          "choropleth": [
           {
            "colorbar": {
             "outlinewidth": 0,
             "ticks": ""
            },
            "type": "choropleth"
           }
          ],
          "contour": [
           {
            "colorbar": {
             "outlinewidth": 0,
             "ticks": ""
            },
            "colorscale": [
             [
              0,
              "#0d0887"
             ],
             [
              0.1111111111111111,
              "#46039f"
             ],
             [
              0.2222222222222222,
              "#7201a8"
             ],
             [
              0.3333333333333333,
              "#9c179e"
             ],
             [
              0.4444444444444444,
              "#bd3786"
             ],
             [
              0.5555555555555556,
              "#d8576b"
             ],
             [
              0.6666666666666666,
              "#ed7953"
             ],
             [
              0.7777777777777778,
              "#fb9f3a"
             ],
             [
              0.8888888888888888,
              "#fdca26"
             ],
             [
              1,
              "#f0f921"
             ]
            ],
            "type": "contour"
           }
          ],
          "contourcarpet": [
           {
            "colorbar": {
             "outlinewidth": 0,
             "ticks": ""
            },
            "type": "contourcarpet"
           }
          ],
          "heatmap": [
           {
            "colorbar": {
             "outlinewidth": 0,
             "ticks": ""
            },
            "colorscale": [
             [
              0,
              "#0d0887"
             ],
             [
              0.1111111111111111,
              "#46039f"
             ],
             [
              0.2222222222222222,
              "#7201a8"
             ],
             [
              0.3333333333333333,
              "#9c179e"
             ],
             [
              0.4444444444444444,
              "#bd3786"
             ],
             [
              0.5555555555555556,
              "#d8576b"
             ],
             [
              0.6666666666666666,
              "#ed7953"
             ],
             [
              0.7777777777777778,
              "#fb9f3a"
             ],
             [
              0.8888888888888888,
              "#fdca26"
             ],
             [
              1,
              "#f0f921"
             ]
            ],
            "type": "heatmap"
           }
          ],
          "heatmapgl": [
           {
            "colorbar": {
             "outlinewidth": 0,
             "ticks": ""
            },
            "colorscale": [
             [
              0,
              "#0d0887"
             ],
             [
              0.1111111111111111,
              "#46039f"
             ],
             [
              0.2222222222222222,
              "#7201a8"
             ],
             [
              0.3333333333333333,
              "#9c179e"
             ],
             [
              0.4444444444444444,
              "#bd3786"
             ],
             [
              0.5555555555555556,
              "#d8576b"
             ],
             [
              0.6666666666666666,
              "#ed7953"
             ],
             [
              0.7777777777777778,
              "#fb9f3a"
             ],
             [
              0.8888888888888888,
              "#fdca26"
             ],
             [
              1,
              "#f0f921"
             ]
            ],
            "type": "heatmapgl"
           }
          ],
          "histogram": [
           {
            "marker": {
             "pattern": {
              "fillmode": "overlay",
              "size": 10,
              "solidity": 0.2
             }
            },
            "type": "histogram"
           }
          ],
          "histogram2d": [
           {
            "colorbar": {
             "outlinewidth": 0,
             "ticks": ""
            },
            "colorscale": [
             [
              0,
              "#0d0887"
             ],
             [
              0.1111111111111111,
              "#46039f"
             ],
             [
              0.2222222222222222,
              "#7201a8"
             ],
             [
              0.3333333333333333,
              "#9c179e"
             ],
             [
              0.4444444444444444,
              "#bd3786"
             ],
             [
              0.5555555555555556,
              "#d8576b"
             ],
             [
              0.6666666666666666,
              "#ed7953"
             ],
             [
              0.7777777777777778,
              "#fb9f3a"
             ],
             [
              0.8888888888888888,
              "#fdca26"
             ],
             [
              1,
              "#f0f921"
             ]
            ],
            "type": "histogram2d"
           }
          ],
          "histogram2dcontour": [
           {
            "colorbar": {
             "outlinewidth": 0,
             "ticks": ""
            },
            "colorscale": [
             [
              0,
              "#0d0887"
             ],
             [
              0.1111111111111111,
              "#46039f"
             ],
             [
              0.2222222222222222,
              "#7201a8"
             ],
             [
              0.3333333333333333,
              "#9c179e"
             ],
             [
              0.4444444444444444,
              "#bd3786"
             ],
             [
              0.5555555555555556,
              "#d8576b"
             ],
             [
              0.6666666666666666,
              "#ed7953"
             ],
             [
              0.7777777777777778,
              "#fb9f3a"
             ],
             [
              0.8888888888888888,
              "#fdca26"
             ],
             [
              1,
              "#f0f921"
             ]
            ],
            "type": "histogram2dcontour"
           }
          ],
          "mesh3d": [
           {
            "colorbar": {
             "outlinewidth": 0,
             "ticks": ""
            },
            "type": "mesh3d"
           }
          ],
          "parcoords": [
           {
            "line": {
             "colorbar": {
              "outlinewidth": 0,
              "ticks": ""
             }
            },
            "type": "parcoords"
           }
          ],
          "pie": [
           {
            "automargin": true,
            "type": "pie"
           }
          ],
          "scatter": [
           {
            "marker": {
             "colorbar": {
              "outlinewidth": 0,
              "ticks": ""
             }
            },
            "type": "scatter"
           }
          ],
          "scatter3d": [
           {
            "line": {
             "colorbar": {
              "outlinewidth": 0,
              "ticks": ""
             }
            },
            "marker": {
             "colorbar": {
              "outlinewidth": 0,
              "ticks": ""
             }
            },
            "type": "scatter3d"
           }
          ],
          "scattercarpet": [
           {
            "marker": {
             "colorbar": {
              "outlinewidth": 0,
              "ticks": ""
             }
            },
            "type": "scattercarpet"
           }
          ],
          "scattergeo": [
           {
            "marker": {
             "colorbar": {
              "outlinewidth": 0,
              "ticks": ""
             }
            },
            "type": "scattergeo"
           }
          ],
          "scattergl": [
           {
            "marker": {
             "colorbar": {
              "outlinewidth": 0,
              "ticks": ""
             }
            },
            "type": "scattergl"
           }
          ],
          "scattermapbox": [
           {
            "marker": {
             "colorbar": {
              "outlinewidth": 0,
              "ticks": ""
             }
            },
            "type": "scattermapbox"
           }
          ],
          "scatterpolar": [
           {
            "marker": {
             "colorbar": {
              "outlinewidth": 0,
              "ticks": ""
             }
            },
            "type": "scatterpolar"
           }
          ],
          "scatterpolargl": [
           {
            "marker": {
             "colorbar": {
              "outlinewidth": 0,
              "ticks": ""
             }
            },
            "type": "scatterpolargl"
           }
          ],
          "scatterternary": [
           {
            "marker": {
             "colorbar": {
              "outlinewidth": 0,
              "ticks": ""
             }
            },
            "type": "scatterternary"
           }
          ],
          "surface": [
           {
            "colorbar": {
             "outlinewidth": 0,
             "ticks": ""
            },
            "colorscale": [
             [
              0,
              "#0d0887"
             ],
             [
              0.1111111111111111,
              "#46039f"
             ],
             [
              0.2222222222222222,
              "#7201a8"
             ],
             [
              0.3333333333333333,
              "#9c179e"
             ],
             [
              0.4444444444444444,
              "#bd3786"
             ],
             [
              0.5555555555555556,
              "#d8576b"
             ],
             [
              0.6666666666666666,
              "#ed7953"
             ],
             [
              0.7777777777777778,
              "#fb9f3a"
             ],
             [
              0.8888888888888888,
              "#fdca26"
             ],
             [
              1,
              "#f0f921"
             ]
            ],
            "type": "surface"
           }
          ],
          "table": [
           {
            "cells": {
             "fill": {
              "color": "#EBF0F8"
             },
             "line": {
              "color": "white"
             }
            },
            "header": {
             "fill": {
              "color": "#C8D4E3"
             },
             "line": {
              "color": "white"
             }
            },
            "type": "table"
           }
          ]
         },
         "layout": {
          "annotationdefaults": {
           "arrowcolor": "#2a3f5f",
           "arrowhead": 0,
           "arrowwidth": 1
          },
          "autotypenumbers": "strict",
          "coloraxis": {
           "colorbar": {
            "outlinewidth": 0,
            "ticks": ""
           }
          },
          "colorscale": {
           "diverging": [
            [
             0,
             "#8e0152"
            ],
            [
             0.1,
             "#c51b7d"
            ],
            [
             0.2,
             "#de77ae"
            ],
            [
             0.3,
             "#f1b6da"
            ],
            [
             0.4,
             "#fde0ef"
            ],
            [
             0.5,
             "#f7f7f7"
            ],
            [
             0.6,
             "#e6f5d0"
            ],
            [
             0.7,
             "#b8e186"
            ],
            [
             0.8,
             "#7fbc41"
            ],
            [
             0.9,
             "#4d9221"
            ],
            [
             1,
             "#276419"
            ]
           ],
           "sequential": [
            [
             0,
             "#0d0887"
            ],
            [
             0.1111111111111111,
             "#46039f"
            ],
            [
             0.2222222222222222,
             "#7201a8"
            ],
            [
             0.3333333333333333,
             "#9c179e"
            ],
            [
             0.4444444444444444,
             "#bd3786"
            ],
            [
             0.5555555555555556,
             "#d8576b"
            ],
            [
             0.6666666666666666,
             "#ed7953"
            ],
            [
             0.7777777777777778,
             "#fb9f3a"
            ],
            [
             0.8888888888888888,
             "#fdca26"
            ],
            [
             1,
             "#f0f921"
            ]
           ],
           "sequentialminus": [
            [
             0,
             "#0d0887"
            ],
            [
             0.1111111111111111,
             "#46039f"
            ],
            [
             0.2222222222222222,
             "#7201a8"
            ],
            [
             0.3333333333333333,
             "#9c179e"
            ],
            [
             0.4444444444444444,
             "#bd3786"
            ],
            [
             0.5555555555555556,
             "#d8576b"
            ],
            [
             0.6666666666666666,
             "#ed7953"
            ],
            [
             0.7777777777777778,
             "#fb9f3a"
            ],
            [
             0.8888888888888888,
             "#fdca26"
            ],
            [
             1,
             "#f0f921"
            ]
           ]
          },
          "colorway": [
           "#636efa",
           "#EF553B",
           "#00cc96",
           "#ab63fa",
           "#FFA15A",
           "#19d3f3",
           "#FF6692",
           "#B6E880",
           "#FF97FF",
           "#FECB52"
          ],
          "font": {
           "color": "#2a3f5f"
          },
          "geo": {
           "bgcolor": "white",
           "lakecolor": "white",
           "landcolor": "#E5ECF6",
           "showlakes": true,
           "showland": true,
           "subunitcolor": "white"
          },
          "hoverlabel": {
           "align": "left"
          },
          "hovermode": "closest",
          "mapbox": {
           "style": "light"
          },
          "paper_bgcolor": "white",
          "plot_bgcolor": "#E5ECF6",
          "polar": {
           "angularaxis": {
            "gridcolor": "white",
            "linecolor": "white",
            "ticks": ""
           },
           "bgcolor": "#E5ECF6",
           "radialaxis": {
            "gridcolor": "white",
            "linecolor": "white",
            "ticks": ""
           }
          },
          "scene": {
           "xaxis": {
            "backgroundcolor": "#E5ECF6",
            "gridcolor": "white",
            "gridwidth": 2,
            "linecolor": "white",
            "showbackground": true,
            "ticks": "",
            "zerolinecolor": "white"
           },
           "yaxis": {
            "backgroundcolor": "#E5ECF6",
            "gridcolor": "white",
            "gridwidth": 2,
            "linecolor": "white",
            "showbackground": true,
            "ticks": "",
            "zerolinecolor": "white"
           },
           "zaxis": {
            "backgroundcolor": "#E5ECF6",
            "gridcolor": "white",
            "gridwidth": 2,
            "linecolor": "white",
            "showbackground": true,
            "ticks": "",
            "zerolinecolor": "white"
           }
          },
          "shapedefaults": {
           "line": {
            "color": "#2a3f5f"
           }
          },
          "ternary": {
           "aaxis": {
            "gridcolor": "white",
            "linecolor": "white",
            "ticks": ""
           },
           "baxis": {
            "gridcolor": "white",
            "linecolor": "white",
            "ticks": ""
           },
           "bgcolor": "#E5ECF6",
           "caxis": {
            "gridcolor": "white",
            "linecolor": "white",
            "ticks": ""
           }
          },
          "title": {
           "x": 0.05
          },
          "xaxis": {
           "automargin": true,
           "gridcolor": "white",
           "linecolor": "white",
           "ticks": "",
           "title": {
            "standoff": 15
           },
           "zerolinecolor": "white",
           "zerolinewidth": 2
          },
          "yaxis": {
           "automargin": true,
           "gridcolor": "white",
           "linecolor": "white",
           "ticks": "",
           "title": {
            "standoff": 15
           },
           "zerolinecolor": "white",
           "zerolinewidth": 2
          }
         }
        },
        "xaxis": {
         "anchor": "y",
         "domain": [
          0,
          1
         ],
         "title": {
          "text": "month"
         }
        },
        "yaxis": {
         "anchor": "x",
         "domain": [
          0,
          1
         ],
         "title": {
          "text": "sales"
         }
        }
       }
      },
      "text/html": [
       "<div>                            <div id=\"16f6c0c6-89a6-4431-b040-5426d51aa8ae\" class=\"plotly-graph-div\" style=\"height:525px; width:100%;\"></div>            <script type=\"text/javascript\">                require([\"plotly\"], function(Plotly) {                    window.PLOTLYENV=window.PLOTLYENV || {};                                    if (document.getElementById(\"16f6c0c6-89a6-4431-b040-5426d51aa8ae\")) {                    Plotly.newPlot(                        \"16f6c0c6-89a6-4431-b040-5426d51aa8ae\",                        [{\"hovertemplate\":\"month=%{x}<br>sales=%{y}<extra></extra>\",\"legendgroup\":\"\",\"line\":{\"color\":\"#636efa\",\"dash\":\"solid\"},\"marker\":{\"symbol\":\"circle\"},\"mode\":\"lines\",\"name\":\"\",\"orientation\":\"v\",\"showlegend\":false,\"type\":\"scatter\",\"x\":[\"2020-01\",\"2020-02\",\"2020-03\",\"2020-04\",\"2020-05\",\"2020-06\",\"2020-07\",\"2020-08\",\"2020-09\",\"2020-10\",\"2020-11\",\"2020-12\",\"2021-01\",\"2021-02\",\"2021-03\",\"2021-04\",\"2021-05\",\"2021-06\",\"2021-07\",\"2021-08\"],\"xaxis\":\"x\",\"y\":[0.0,0.0,0.0,0.0,0.0,0.0,0.0,0.0,765.55,1286.12,1653.59,1408.61,2021.05,1500.48,1837.32,1377.99,2021.05,2572.25,2204.78,3009.96],\"yaxis\":\"y\"}],                        {\"legend\":{\"tracegroupgap\":0},\"margin\":{\"t\":60},\"template\":{\"data\":{\"bar\":[{\"error_x\":{\"color\":\"#2a3f5f\"},\"error_y\":{\"color\":\"#2a3f5f\"},\"marker\":{\"line\":{\"color\":\"#E5ECF6\",\"width\":0.5},\"pattern\":{\"fillmode\":\"overlay\",\"size\":10,\"solidity\":0.2}},\"type\":\"bar\"}],\"barpolar\":[{\"marker\":{\"line\":{\"color\":\"#E5ECF6\",\"width\":0.5},\"pattern\":{\"fillmode\":\"overlay\",\"size\":10,\"solidity\":0.2}},\"type\":\"barpolar\"}],\"carpet\":[{\"aaxis\":{\"endlinecolor\":\"#2a3f5f\",\"gridcolor\":\"white\",\"linecolor\":\"white\",\"minorgridcolor\":\"white\",\"startlinecolor\":\"#2a3f5f\"},\"baxis\":{\"endlinecolor\":\"#2a3f5f\",\"gridcolor\":\"white\",\"linecolor\":\"white\",\"minorgridcolor\":\"white\",\"startlinecolor\":\"#2a3f5f\"},\"type\":\"carpet\"}],\"choropleth\":[{\"colorbar\":{\"outlinewidth\":0,\"ticks\":\"\"},\"type\":\"choropleth\"}],\"contour\":[{\"colorbar\":{\"outlinewidth\":0,\"ticks\":\"\"},\"colorscale\":[[0.0,\"#0d0887\"],[0.1111111111111111,\"#46039f\"],[0.2222222222222222,\"#7201a8\"],[0.3333333333333333,\"#9c179e\"],[0.4444444444444444,\"#bd3786\"],[0.5555555555555556,\"#d8576b\"],[0.6666666666666666,\"#ed7953\"],[0.7777777777777778,\"#fb9f3a\"],[0.8888888888888888,\"#fdca26\"],[1.0,\"#f0f921\"]],\"type\":\"contour\"}],\"contourcarpet\":[{\"colorbar\":{\"outlinewidth\":0,\"ticks\":\"\"},\"type\":\"contourcarpet\"}],\"heatmap\":[{\"colorbar\":{\"outlinewidth\":0,\"ticks\":\"\"},\"colorscale\":[[0.0,\"#0d0887\"],[0.1111111111111111,\"#46039f\"],[0.2222222222222222,\"#7201a8\"],[0.3333333333333333,\"#9c179e\"],[0.4444444444444444,\"#bd3786\"],[0.5555555555555556,\"#d8576b\"],[0.6666666666666666,\"#ed7953\"],[0.7777777777777778,\"#fb9f3a\"],[0.8888888888888888,\"#fdca26\"],[1.0,\"#f0f921\"]],\"type\":\"heatmap\"}],\"heatmapgl\":[{\"colorbar\":{\"outlinewidth\":0,\"ticks\":\"\"},\"colorscale\":[[0.0,\"#0d0887\"],[0.1111111111111111,\"#46039f\"],[0.2222222222222222,\"#7201a8\"],[0.3333333333333333,\"#9c179e\"],[0.4444444444444444,\"#bd3786\"],[0.5555555555555556,\"#d8576b\"],[0.6666666666666666,\"#ed7953\"],[0.7777777777777778,\"#fb9f3a\"],[0.8888888888888888,\"#fdca26\"],[1.0,\"#f0f921\"]],\"type\":\"heatmapgl\"}],\"histogram\":[{\"marker\":{\"pattern\":{\"fillmode\":\"overlay\",\"size\":10,\"solidity\":0.2}},\"type\":\"histogram\"}],\"histogram2d\":[{\"colorbar\":{\"outlinewidth\":0,\"ticks\":\"\"},\"colorscale\":[[0.0,\"#0d0887\"],[0.1111111111111111,\"#46039f\"],[0.2222222222222222,\"#7201a8\"],[0.3333333333333333,\"#9c179e\"],[0.4444444444444444,\"#bd3786\"],[0.5555555555555556,\"#d8576b\"],[0.6666666666666666,\"#ed7953\"],[0.7777777777777778,\"#fb9f3a\"],[0.8888888888888888,\"#fdca26\"],[1.0,\"#f0f921\"]],\"type\":\"histogram2d\"}],\"histogram2dcontour\":[{\"colorbar\":{\"outlinewidth\":0,\"ticks\":\"\"},\"colorscale\":[[0.0,\"#0d0887\"],[0.1111111111111111,\"#46039f\"],[0.2222222222222222,\"#7201a8\"],[0.3333333333333333,\"#9c179e\"],[0.4444444444444444,\"#bd3786\"],[0.5555555555555556,\"#d8576b\"],[0.6666666666666666,\"#ed7953\"],[0.7777777777777778,\"#fb9f3a\"],[0.8888888888888888,\"#fdca26\"],[1.0,\"#f0f921\"]],\"type\":\"histogram2dcontour\"}],\"mesh3d\":[{\"colorbar\":{\"outlinewidth\":0,\"ticks\":\"\"},\"type\":\"mesh3d\"}],\"parcoords\":[{\"line\":{\"colorbar\":{\"outlinewidth\":0,\"ticks\":\"\"}},\"type\":\"parcoords\"}],\"pie\":[{\"automargin\":true,\"type\":\"pie\"}],\"scatter\":[{\"marker\":{\"colorbar\":{\"outlinewidth\":0,\"ticks\":\"\"}},\"type\":\"scatter\"}],\"scatter3d\":[{\"line\":{\"colorbar\":{\"outlinewidth\":0,\"ticks\":\"\"}},\"marker\":{\"colorbar\":{\"outlinewidth\":0,\"ticks\":\"\"}},\"type\":\"scatter3d\"}],\"scattercarpet\":[{\"marker\":{\"colorbar\":{\"outlinewidth\":0,\"ticks\":\"\"}},\"type\":\"scattercarpet\"}],\"scattergeo\":[{\"marker\":{\"colorbar\":{\"outlinewidth\":0,\"ticks\":\"\"}},\"type\":\"scattergeo\"}],\"scattergl\":[{\"marker\":{\"colorbar\":{\"outlinewidth\":0,\"ticks\":\"\"}},\"type\":\"scattergl\"}],\"scattermapbox\":[{\"marker\":{\"colorbar\":{\"outlinewidth\":0,\"ticks\":\"\"}},\"type\":\"scattermapbox\"}],\"scatterpolar\":[{\"marker\":{\"colorbar\":{\"outlinewidth\":0,\"ticks\":\"\"}},\"type\":\"scatterpolar\"}],\"scatterpolargl\":[{\"marker\":{\"colorbar\":{\"outlinewidth\":0,\"ticks\":\"\"}},\"type\":\"scatterpolargl\"}],\"scatterternary\":[{\"marker\":{\"colorbar\":{\"outlinewidth\":0,\"ticks\":\"\"}},\"type\":\"scatterternary\"}],\"surface\":[{\"colorbar\":{\"outlinewidth\":0,\"ticks\":\"\"},\"colorscale\":[[0.0,\"#0d0887\"],[0.1111111111111111,\"#46039f\"],[0.2222222222222222,\"#7201a8\"],[0.3333333333333333,\"#9c179e\"],[0.4444444444444444,\"#bd3786\"],[0.5555555555555556,\"#d8576b\"],[0.6666666666666666,\"#ed7953\"],[0.7777777777777778,\"#fb9f3a\"],[0.8888888888888888,\"#fdca26\"],[1.0,\"#f0f921\"]],\"type\":\"surface\"}],\"table\":[{\"cells\":{\"fill\":{\"color\":\"#EBF0F8\"},\"line\":{\"color\":\"white\"}},\"header\":{\"fill\":{\"color\":\"#C8D4E3\"},\"line\":{\"color\":\"white\"}},\"type\":\"table\"}]},\"layout\":{\"annotationdefaults\":{\"arrowcolor\":\"#2a3f5f\",\"arrowhead\":0,\"arrowwidth\":1},\"autotypenumbers\":\"strict\",\"coloraxis\":{\"colorbar\":{\"outlinewidth\":0,\"ticks\":\"\"}},\"colorscale\":{\"diverging\":[[0,\"#8e0152\"],[0.1,\"#c51b7d\"],[0.2,\"#de77ae\"],[0.3,\"#f1b6da\"],[0.4,\"#fde0ef\"],[0.5,\"#f7f7f7\"],[0.6,\"#e6f5d0\"],[0.7,\"#b8e186\"],[0.8,\"#7fbc41\"],[0.9,\"#4d9221\"],[1,\"#276419\"]],\"sequential\":[[0.0,\"#0d0887\"],[0.1111111111111111,\"#46039f\"],[0.2222222222222222,\"#7201a8\"],[0.3333333333333333,\"#9c179e\"],[0.4444444444444444,\"#bd3786\"],[0.5555555555555556,\"#d8576b\"],[0.6666666666666666,\"#ed7953\"],[0.7777777777777778,\"#fb9f3a\"],[0.8888888888888888,\"#fdca26\"],[1.0,\"#f0f921\"]],\"sequentialminus\":[[0.0,\"#0d0887\"],[0.1111111111111111,\"#46039f\"],[0.2222222222222222,\"#7201a8\"],[0.3333333333333333,\"#9c179e\"],[0.4444444444444444,\"#bd3786\"],[0.5555555555555556,\"#d8576b\"],[0.6666666666666666,\"#ed7953\"],[0.7777777777777778,\"#fb9f3a\"],[0.8888888888888888,\"#fdca26\"],[1.0,\"#f0f921\"]]},\"colorway\":[\"#636efa\",\"#EF553B\",\"#00cc96\",\"#ab63fa\",\"#FFA15A\",\"#19d3f3\",\"#FF6692\",\"#B6E880\",\"#FF97FF\",\"#FECB52\"],\"font\":{\"color\":\"#2a3f5f\"},\"geo\":{\"bgcolor\":\"white\",\"lakecolor\":\"white\",\"landcolor\":\"#E5ECF6\",\"showlakes\":true,\"showland\":true,\"subunitcolor\":\"white\"},\"hoverlabel\":{\"align\":\"left\"},\"hovermode\":\"closest\",\"mapbox\":{\"style\":\"light\"},\"paper_bgcolor\":\"white\",\"plot_bgcolor\":\"#E5ECF6\",\"polar\":{\"angularaxis\":{\"gridcolor\":\"white\",\"linecolor\":\"white\",\"ticks\":\"\"},\"bgcolor\":\"#E5ECF6\",\"radialaxis\":{\"gridcolor\":\"white\",\"linecolor\":\"white\",\"ticks\":\"\"}},\"scene\":{\"xaxis\":{\"backgroundcolor\":\"#E5ECF6\",\"gridcolor\":\"white\",\"gridwidth\":2,\"linecolor\":\"white\",\"showbackground\":true,\"ticks\":\"\",\"zerolinecolor\":\"white\"},\"yaxis\":{\"backgroundcolor\":\"#E5ECF6\",\"gridcolor\":\"white\",\"gridwidth\":2,\"linecolor\":\"white\",\"showbackground\":true,\"ticks\":\"\",\"zerolinecolor\":\"white\"},\"zaxis\":{\"backgroundcolor\":\"#E5ECF6\",\"gridcolor\":\"white\",\"gridwidth\":2,\"linecolor\":\"white\",\"showbackground\":true,\"ticks\":\"\",\"zerolinecolor\":\"white\"}},\"shapedefaults\":{\"line\":{\"color\":\"#2a3f5f\"}},\"ternary\":{\"aaxis\":{\"gridcolor\":\"white\",\"linecolor\":\"white\",\"ticks\":\"\"},\"baxis\":{\"gridcolor\":\"white\",\"linecolor\":\"white\",\"ticks\":\"\"},\"bgcolor\":\"#E5ECF6\",\"caxis\":{\"gridcolor\":\"white\",\"linecolor\":\"white\",\"ticks\":\"\"}},\"title\":{\"x\":0.05},\"xaxis\":{\"automargin\":true,\"gridcolor\":\"white\",\"linecolor\":\"white\",\"ticks\":\"\",\"title\":{\"standoff\":15},\"zerolinecolor\":\"white\",\"zerolinewidth\":2},\"yaxis\":{\"automargin\":true,\"gridcolor\":\"white\",\"linecolor\":\"white\",\"ticks\":\"\",\"title\":{\"standoff\":15},\"zerolinecolor\":\"white\",\"zerolinewidth\":2}}},\"xaxis\":{\"anchor\":\"y\",\"domain\":[0.0,1.0],\"title\":{\"text\":\"month\"}},\"yaxis\":{\"anchor\":\"x\",\"domain\":[0.0,1.0],\"title\":{\"text\":\"sales\"}}},                        {\"responsive\": true}                    ).then(function(){\n",
       "                            \n",
       "var gd = document.getElementById('16f6c0c6-89a6-4431-b040-5426d51aa8ae');\n",
       "var x = new MutationObserver(function (mutations, observer) {{\n",
       "        var display = window.getComputedStyle(gd).display;\n",
       "        if (!display || display === 'none') {{\n",
       "            console.log([gd, 'removed!']);\n",
       "            Plotly.purge(gd);\n",
       "            observer.disconnect();\n",
       "        }}\n",
       "}});\n",
       "\n",
       "// Listen for the removal of the full notebook cells\n",
       "var notebookContainer = gd.closest('#notebook-container');\n",
       "if (notebookContainer) {{\n",
       "    x.observe(notebookContainer, {childList: true});\n",
       "}}\n",
       "\n",
       "// Listen for the clearing of the current output cell\n",
       "var outputEl = gd.closest('.output');\n",
       "if (outputEl) {{\n",
       "    x.observe(outputEl, {childList: true});\n",
       "}}\n",
       "\n",
       "                        })                };                });            </script>        </div>"
      ]
     },
     "metadata": {},
     "output_type": "display_data"
    }
   ],
   "source": [
    "import plotly.express as px\n",
    "\n",
    "region = 'region_1'\n",
    "brand = 'brand_1'\n",
    "\n",
    "fig = px.line(sales_train[(sales_train.region == region) & (sales_train.brand == brand)], x='month', y='sales')\n",
    "fig.show()"
   ]
  },
  {
   "cell_type": "code",
   "execution_count": 33,
   "metadata": {},
   "outputs": [
    {
     "data": {
      "text/html": [
       "<div>\n",
       "<style scoped>\n",
       "    .dataframe tbody tr th:only-of-type {\n",
       "        vertical-align: middle;\n",
       "    }\n",
       "\n",
       "    .dataframe tbody tr th {\n",
       "        vertical-align: top;\n",
       "    }\n",
       "\n",
       "    .dataframe thead th {\n",
       "        text-align: right;\n",
       "    }\n",
       "</style>\n",
       "<table border=\"1\" class=\"dataframe\">\n",
       "  <thead>\n",
       "    <tr style=\"text-align: right;\">\n",
       "      <th>month</th>\n",
       "      <th>region_brand</th>\n",
       "      <th>2020-01</th>\n",
       "      <th>2020-02</th>\n",
       "      <th>2020-03</th>\n",
       "      <th>2020-04</th>\n",
       "      <th>2020-05</th>\n",
       "      <th>2020-06</th>\n",
       "      <th>2020-07</th>\n",
       "      <th>2020-08</th>\n",
       "      <th>2020-09</th>\n",
       "      <th>2020-10</th>\n",
       "      <th>2020-11</th>\n",
       "      <th>2020-12</th>\n",
       "      <th>2021-01</th>\n",
       "      <th>2021-02</th>\n",
       "      <th>2021-03</th>\n",
       "      <th>2021-04</th>\n",
       "      <th>2021-05</th>\n",
       "      <th>2021-06</th>\n",
       "      <th>2021-07</th>\n",
       "      <th>2021-08</th>\n",
       "    </tr>\n",
       "  </thead>\n",
       "  <tbody>\n",
       "  </tbody>\n",
       "</table>\n",
       "</div>"
      ],
      "text/plain": [
       "Empty DataFrame\n",
       "Columns: [region_brand, 2020-01, 2020-02, 2020-03, 2020-04, 2020-05, 2020-06, 2020-07, 2020-08, 2020-09, 2020-10, 2020-11, 2020-12, 2021-01, 2021-02, 2021-03, 2021-04, 2021-05, 2021-06, 2021-07, 2021-08]\n",
       "Index: []"
      ]
     },
     "execution_count": 33,
     "metadata": {},
     "output_type": "execute_result"
    }
   ],
   "source": [
    "sales_train['region_brand'] = sales_train['region'] + sales_train['brand']\n",
    "s = sales_train.groupby(['region_brand', 'month']).sales.mean().unstack().reset_index()\n",
    "s[s.region_brand == 'region_190brand_1']"
   ]
  },
  {
   "cell_type": "code",
   "execution_count": null,
   "metadata": {},
   "outputs": [],
   "source": []
  },
  {
   "cell_type": "code",
   "execution_count": 22,
   "metadata": {},
   "outputs": [
    {
     "data": {
      "text/html": [
       "<div>\n",
       "<style scoped>\n",
       "    .dataframe tbody tr th:only-of-type {\n",
       "        vertical-align: middle;\n",
       "    }\n",
       "\n",
       "    .dataframe tbody tr th {\n",
       "        vertical-align: top;\n",
       "    }\n",
       "\n",
       "    .dataframe thead th {\n",
       "        text-align: right;\n",
       "    }\n",
       "</style>\n",
       "<table border=\"1\" class=\"dataframe\">\n",
       "  <thead>\n",
       "    <tr style=\"text-align: right;\">\n",
       "      <th></th>\n",
       "      <th>month</th>\n",
       "      <th>region</th>\n",
       "      <th>brand</th>\n",
       "      <th>sales</th>\n",
       "      <th>lower</th>\n",
       "      <th>upper</th>\n",
       "    </tr>\n",
       "  </thead>\n",
       "  <tbody>\n",
       "    <tr>\n",
       "      <th>0</th>\n",
       "      <td>2020-07</td>\n",
       "      <td>region_151</td>\n",
       "      <td>brand_1</td>\n",
       "      <td>50.0</td>\n",
       "      <td>0.0</td>\n",
       "      <td>100.0</td>\n",
       "    </tr>\n",
       "    <tr>\n",
       "      <th>1</th>\n",
       "      <td>2020-07</td>\n",
       "      <td>region_151</td>\n",
       "      <td>brand_2</td>\n",
       "      <td>50.0</td>\n",
       "      <td>0.0</td>\n",
       "      <td>100.0</td>\n",
       "    </tr>\n",
       "    <tr>\n",
       "      <th>2</th>\n",
       "      <td>2020-07</td>\n",
       "      <td>region_152</td>\n",
       "      <td>brand_1</td>\n",
       "      <td>50.0</td>\n",
       "      <td>0.0</td>\n",
       "      <td>100.0</td>\n",
       "    </tr>\n",
       "    <tr>\n",
       "      <th>3</th>\n",
       "      <td>2020-07</td>\n",
       "      <td>region_152</td>\n",
       "      <td>brand_2</td>\n",
       "      <td>50.0</td>\n",
       "      <td>0.0</td>\n",
       "      <td>100.0</td>\n",
       "    </tr>\n",
       "    <tr>\n",
       "      <th>4</th>\n",
       "      <td>2020-07</td>\n",
       "      <td>region_153</td>\n",
       "      <td>brand_1</td>\n",
       "      <td>50.0</td>\n",
       "      <td>0.0</td>\n",
       "      <td>100.0</td>\n",
       "    </tr>\n",
       "    <tr>\n",
       "      <th>...</th>\n",
       "      <td>...</td>\n",
       "      <td>...</td>\n",
       "      <td>...</td>\n",
       "      <td>...</td>\n",
       "      <td>...</td>\n",
       "      <td>...</td>\n",
       "    </tr>\n",
       "    <tr>\n",
       "      <th>1395</th>\n",
       "      <td>2021-08</td>\n",
       "      <td>region_198</td>\n",
       "      <td>brand_2</td>\n",
       "      <td>50.0</td>\n",
       "      <td>0.0</td>\n",
       "      <td>100.0</td>\n",
       "    </tr>\n",
       "    <tr>\n",
       "      <th>1396</th>\n",
       "      <td>2021-08</td>\n",
       "      <td>region_199</td>\n",
       "      <td>brand_1</td>\n",
       "      <td>50.0</td>\n",
       "      <td>0.0</td>\n",
       "      <td>100.0</td>\n",
       "    </tr>\n",
       "    <tr>\n",
       "      <th>1397</th>\n",
       "      <td>2021-08</td>\n",
       "      <td>region_199</td>\n",
       "      <td>brand_2</td>\n",
       "      <td>50.0</td>\n",
       "      <td>0.0</td>\n",
       "      <td>100.0</td>\n",
       "    </tr>\n",
       "    <tr>\n",
       "      <th>1398</th>\n",
       "      <td>2021-08</td>\n",
       "      <td>region_200</td>\n",
       "      <td>brand_1</td>\n",
       "      <td>50.0</td>\n",
       "      <td>0.0</td>\n",
       "      <td>100.0</td>\n",
       "    </tr>\n",
       "    <tr>\n",
       "      <th>1399</th>\n",
       "      <td>2021-08</td>\n",
       "      <td>region_200</td>\n",
       "      <td>brand_2</td>\n",
       "      <td>50.0</td>\n",
       "      <td>0.0</td>\n",
       "      <td>100.0</td>\n",
       "    </tr>\n",
       "  </tbody>\n",
       "</table>\n",
       "<p>1400 rows × 6 columns</p>\n",
       "</div>"
      ],
      "text/plain": [
       "        month      region    brand  sales  lower  upper\n",
       "0     2020-07  region_151  brand_1   50.0    0.0  100.0\n",
       "1     2020-07  region_151  brand_2   50.0    0.0  100.0\n",
       "2     2020-07  region_152  brand_1   50.0    0.0  100.0\n",
       "3     2020-07  region_152  brand_2   50.0    0.0  100.0\n",
       "4     2020-07  region_153  brand_1   50.0    0.0  100.0\n",
       "...       ...         ...      ...    ...    ...    ...\n",
       "1395  2021-08  region_198  brand_2   50.0    0.0  100.0\n",
       "1396  2021-08  region_199  brand_1   50.0    0.0  100.0\n",
       "1397  2021-08  region_199  brand_2   50.0    0.0  100.0\n",
       "1398  2021-08  region_200  brand_1   50.0    0.0  100.0\n",
       "1399  2021-08  region_200  brand_2   50.0    0.0  100.0\n",
       "\n",
       "[1400 rows x 6 columns]"
      ]
     },
     "execution_count": 22,
     "metadata": {},
     "output_type": "execute_result"
    }
   ],
   "source": [
    "submission_sample"
   ]
  },
  {
   "cell_type": "markdown",
   "metadata": {},
   "source": [
    "MASTER TABLE:\n",
    "    \n",
    "    - month\n",
    "    - region\n",
    "    - brand\n",
    "    - sales (sales of the brand in the region in the given month)\n",
    "    - feature_1 (sum sales of the region in the past 3 months)\n",
    "    - feature_2 (average sales of the brand in the past 2 months)\n",
    "    - feature_3 (maximum sales per month of the brand-region in the last 6 months)\n",
    "    \n",
    "    \n",
    "    \n",
    "    - ..."
   ]
  }
 ],
 "metadata": {
  "kernelspec": {
   "display_name": "Python 3",
   "language": "python",
   "name": "python3"
  },
  "language_info": {
   "codemirror_mode": {
    "name": "ipython",
    "version": 3
   },
   "file_extension": ".py",
   "mimetype": "text/x-python",
   "name": "python",
   "nbconvert_exporter": "python",
   "pygments_lexer": "ipython3",
   "version": "3.8.11"
  }
 },
 "nbformat": 4,
 "nbformat_minor": 5
}
