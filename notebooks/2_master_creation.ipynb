{
 "cells": [
  {
   "cell_type": "code",
   "execution_count": 1,
   "id": "43da8010",
   "metadata": {},
   "outputs": [],
   "source": [
    "import sys\n",
    "sys.path.append('..')\n",
    "from src.utilities import *"
   ]
  },
  {
   "cell_type": "markdown",
   "id": "50f508c9",
   "metadata": {},
   "source": [
    "## 2. Master creation"
   ]
  },
  {
   "cell_type": "code",
   "execution_count": null,
   "id": "199bde02",
   "metadata": {},
   "outputs": [],
   "source": [
    "# Extract features from tsfresh"
   ]
  },
  {
   "cell_type": "code",
   "execution_count": null,
   "id": "e017d0b0",
   "metadata": {},
   "outputs": [],
   "source": []
  },
  {
   "cell_type": "code",
   "execution_count": null,
   "id": "1a7f2973",
   "metadata": {},
   "outputs": [],
   "source": []
  }
 ],
 "metadata": {
  "kernelspec": {
   "display_name": "Python 3 (ipykernel)",
   "language": "python",
   "name": "python3"
  },
  "language_info": {
   "codemirror_mode": {
    "name": "ipython",
    "version": 3
   },
   "file_extension": ".py",
   "mimetype": "text/x-python",
   "name": "python",
   "nbconvert_exporter": "python",
   "pygments_lexer": "ipython3",
   "version": "3.9.6"
  }
 },
 "nbformat": 4,
 "nbformat_minor": 5
}
