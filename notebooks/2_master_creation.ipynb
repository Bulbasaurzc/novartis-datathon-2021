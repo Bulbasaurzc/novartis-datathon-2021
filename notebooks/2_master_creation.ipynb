{
 "cells": [
  {
   "cell_type": "code",
   "execution_count": 1,
   "metadata": {},
   "outputs": [],
   "source": [
    "import sys\n",
    "sys.path.append('..')\n",
    "from src.utilities import *\n",
    "\n",
    "from src.features.sales_feature_extraction import extract_sales_features\n",
    "from src.features.region_feature_extraction import extract_region_features\n",
    "from src.features.activity_feature_extraction import extract_activity_features\n",
    "from src.features.covid_feature_extraction import extract_covid_features"
   ]
  },
  {
   "cell_type": "markdown",
   "metadata": {},
   "source": [
    "## 2. Master creation"
   ]
  },
  {
   "cell_type": "markdown",
   "metadata": {},
   "source": [
    "### 2.1 Read necessary raw tables"
   ]
  },
  {
   "cell_type": "code",
   "execution_count": 2,
   "metadata": {},
   "outputs": [],
   "source": [
    "regions_data = pd.read_csv(os.path.join(raw_path, 'regions.csv'))\n",
    "regions_hcps = pd.read_csv(os.path.join(raw_path, 'regions_hcps.csv'))\n",
    "hcps = pd.read_csv(os.path.join(raw_path, 'hcps.csv'))\n",
    "sales_train = pd.read_csv(os.path.join(raw_path, 'sales_train.csv'))\n",
    "activity_data = pd.read_csv(os.path.join(raw_path, 'activity.csv'))\n",
    "prophet_features = pd.read_csv(os.path.join(interim_path, 'prophet_features.csv'))\n",
    "covid_data = pd.read_csv(os.path.join(raw_path, 'owid-covid-data.csv')) # https://github.com/owid/covid-19-data/tree/master/public/data"
   ]
  },
  {
   "cell_type": "markdown",
   "metadata": {},
   "source": [
    "### 2.2 Define cross join of month - region - brand"
   ]
  },
  {
   "cell_type": "code",
   "execution_count": 3,
   "metadata": {},
   "outputs": [
    {
     "data": {
      "text/html": [
       "<div>\n",
       "<style scoped>\n",
       "    .dataframe tbody tr th:only-of-type {\n",
       "        vertical-align: middle;\n",
       "    }\n",
       "\n",
       "    .dataframe tbody tr th {\n",
       "        vertical-align: top;\n",
       "    }\n",
       "\n",
       "    .dataframe thead th {\n",
       "        text-align: right;\n",
       "    }\n",
       "</style>\n",
       "<table border=\"1\" class=\"dataframe\">\n",
       "  <thead>\n",
       "    <tr style=\"text-align: right;\">\n",
       "      <th></th>\n",
       "      <th>month</th>\n",
       "      <th>region</th>\n",
       "      <th>brand</th>\n",
       "      <th>sales</th>\n",
       "    </tr>\n",
       "  </thead>\n",
       "  <tbody>\n",
       "    <tr>\n",
       "      <th>0</th>\n",
       "      <td>2020-01</td>\n",
       "      <td>region_0</td>\n",
       "      <td>brand_1</td>\n",
       "      <td>0.0</td>\n",
       "    </tr>\n",
       "    <tr>\n",
       "      <th>1</th>\n",
       "      <td>2020-01</td>\n",
       "      <td>region_0</td>\n",
       "      <td>brand_2</td>\n",
       "      <td>0.0</td>\n",
       "    </tr>\n",
       "    <tr>\n",
       "      <th>2</th>\n",
       "      <td>2020-01</td>\n",
       "      <td>region_1</td>\n",
       "      <td>brand_1</td>\n",
       "      <td>0.0</td>\n",
       "    </tr>\n",
       "    <tr>\n",
       "      <th>3</th>\n",
       "      <td>2020-01</td>\n",
       "      <td>region_1</td>\n",
       "      <td>brand_2</td>\n",
       "      <td>0.0</td>\n",
       "    </tr>\n",
       "    <tr>\n",
       "      <th>4</th>\n",
       "      <td>2020-01</td>\n",
       "      <td>region_2</td>\n",
       "      <td>brand_1</td>\n",
       "      <td>0.0</td>\n",
       "    </tr>\n",
       "  </tbody>\n",
       "</table>\n",
       "</div>"
      ],
      "text/plain": [
       "     month    region    brand  sales\n",
       "0  2020-01  region_0  brand_1    0.0\n",
       "1  2020-01  region_0  brand_2    0.0\n",
       "2  2020-01  region_1  brand_1    0.0\n",
       "3  2020-01  region_1  brand_2    0.0\n",
       "4  2020-01  region_2  brand_1    0.0"
      ]
     },
     "execution_count": 3,
     "metadata": {},
     "output_type": "execute_result"
    }
   ],
   "source": [
    "months = pd.DataFrame({'month': sales_train.month.unique()})\n",
    "regions = pd.DataFrame({'region': sales_train.region.unique()})\n",
    "brands = pd.DataFrame({'brand': ['brand_1', 'brand_2']})\n",
    "\n",
    "months['dummy_col'] = 0\n",
    "regions['dummy_col'] = 0\n",
    "brands['dummy_col'] = 0\n",
    "\n",
    "master = months.merge(regions, how = 'outer', on = 'dummy_col')\n",
    "master = master.merge(brands, how = 'outer', on = 'dummy_col')\n",
    "master.drop(columns = 'dummy_col', inplace = True)\n",
    "master = master.merge(sales_train, how = 'left', on = ['month', 'region', 'brand'])\n",
    "master.head()"
   ]
  },
  {
   "cell_type": "markdown",
   "metadata": {},
   "source": [
    "### 2.3 Append features"
   ]
  },
  {
   "cell_type": "code",
   "execution_count": 4,
   "metadata": {},
   "outputs": [],
   "source": [
    "# Create features from raw tables\n",
    "sales_features = extract_sales_features(sales_train)\n",
    "region_features = extract_region_features(regions_data, regions_hcps, hcps)\n",
    "activity_features = extract_activity_features(activity_data).fillna(0)\n",
    "covid_features = extract_covid_features(covid_data) \n",
    "\n",
    "# Add integer month indicator\n",
    "master['month_indicator'] = master.month.apply(lambda x: int(x[:4])*100 + int(x[-2:]))\n",
    "\n",
    "# Combine features in a single master table\n",
    "master = master.merge(sales_features, how = 'left', on = ['month', 'region', 'brand'])\n",
    "master = master.merge(region_features, how = 'left', on = 'region')\n",
    "master = master.merge(covid_features, how = 'left', on = 'month')\n",
    "master = master.merge(activity_features, how = 'left', on = ['month', 'region', 'brand'])\n",
    "master = master.merge(prophet_features, how = 'left', on = ['month', 'region'])"
   ]
  },
  {
   "cell_type": "markdown",
   "metadata": {},
   "source": [
    "### 2.3 Save master table"
   ]
  },
  {
   "cell_type": "code",
   "execution_count": 6,
   "metadata": {},
   "outputs": [],
   "source": [
    "master.to_csv(os.path.join(processed_path, 'master.csv'), index = False)"
   ]
  }
 ],
 "metadata": {
  "kernelspec": {
   "display_name": "Python 3",
   "language": "python",
   "name": "python3"
  },
  "language_info": {
   "codemirror_mode": {
    "name": "ipython",
    "version": 3
   },
   "file_extension": ".py",
   "mimetype": "text/x-python",
   "name": "python",
   "nbconvert_exporter": "python",
   "pygments_lexer": "ipython3",
   "version": "3.8.11"
  }
 },
 "nbformat": 4,
 "nbformat_minor": 5
}
