{
 "cells": [
  {
   "cell_type": "code",
   "execution_count": 1,
   "id": "43da8010",
   "metadata": {},
   "outputs": [],
   "source": [
    "import sys\n",
    "sys.path.append('..')\n",
    "from src.utilities import *"
   ]
  },
  {
   "cell_type": "markdown",
   "id": "50f508c9",
   "metadata": {},
   "source": [
    "## 2. Master creation"
   ]
  },
  {
   "cell_type": "markdown",
   "id": "cf2ab3a9",
   "metadata": {},
   "source": [
    "### 2.1 Define cross join of month - region - brand"
   ]
  },
  {
   "cell_type": "code",
   "execution_count": 19,
   "id": "ff139e33",
   "metadata": {},
   "outputs": [
    {
     "data": {
      "text/html": [
       "<div>\n",
       "<style scoped>\n",
       "    .dataframe tbody tr th:only-of-type {\n",
       "        vertical-align: middle;\n",
       "    }\n",
       "\n",
       "    .dataframe tbody tr th {\n",
       "        vertical-align: top;\n",
       "    }\n",
       "\n",
       "    .dataframe thead th {\n",
       "        text-align: right;\n",
       "    }\n",
       "</style>\n",
       "<table border=\"1\" class=\"dataframe\">\n",
       "  <thead>\n",
       "    <tr style=\"text-align: right;\">\n",
       "      <th></th>\n",
       "      <th>month</th>\n",
       "      <th>region</th>\n",
       "      <th>brand</th>\n",
       "    </tr>\n",
       "  </thead>\n",
       "  <tbody>\n",
       "    <tr>\n",
       "      <th>0</th>\n",
       "      <td>2020-01</td>\n",
       "      <td>region_0</td>\n",
       "      <td>brand_1</td>\n",
       "    </tr>\n",
       "    <tr>\n",
       "      <th>1</th>\n",
       "      <td>2020-01</td>\n",
       "      <td>region_0</td>\n",
       "      <td>brand_2</td>\n",
       "    </tr>\n",
       "    <tr>\n",
       "      <th>2</th>\n",
       "      <td>2020-01</td>\n",
       "      <td>region_1</td>\n",
       "      <td>brand_1</td>\n",
       "    </tr>\n",
       "    <tr>\n",
       "      <th>3</th>\n",
       "      <td>2020-01</td>\n",
       "      <td>region_1</td>\n",
       "      <td>brand_2</td>\n",
       "    </tr>\n",
       "    <tr>\n",
       "      <th>4</th>\n",
       "      <td>2020-01</td>\n",
       "      <td>region_2</td>\n",
       "      <td>brand_1</td>\n",
       "    </tr>\n",
       "  </tbody>\n",
       "</table>\n",
       "</div>"
      ],
      "text/plain": [
       "     month    region    brand\n",
       "0  2020-01  region_0  brand_1\n",
       "1  2020-01  region_0  brand_2\n",
       "2  2020-01  region_1  brand_1\n",
       "3  2020-01  region_1  brand_2\n",
       "4  2020-01  region_2  brand_1"
      ]
     },
     "execution_count": 19,
     "metadata": {},
     "output_type": "execute_result"
    }
   ],
   "source": [
    "sales_train = pd.read_csv(os.path.join(raw_path, 'sales_train.csv'))\n",
    "\n",
    "months = pd.DataFrame({'month': sales_train.month.unique()})\n",
    "regions = pd.DataFrame({'region': sales_train.region.unique()})\n",
    "brands = pd.DataFrame({'brand': ['brand_1', 'brand_2']})\n",
    "\n",
    "months['dummy_col'] = 0\n",
    "regions['dummy_col'] = 0\n",
    "brands['dummy_col'] = 0\n",
    "\n",
    "master = months.merge(regions, how = 'outer', on = 'dummy_col')\n",
    "master = master.merge(brands, how = 'outer', on = 'dummy_col')\n",
    "master.drop(columns = 'dummy_col', inplace = True)\n",
    "master.head()"
   ]
  },
  {
   "cell_type": "markdown",
   "id": "21498b9f",
   "metadata": {},
   "source": [
    "### 2.2 Append features"
   ]
  },
  {
   "cell_type": "code",
   "execution_count": null,
   "id": "acc1e13e",
   "metadata": {},
   "outputs": [],
   "source": [
    "\n",
    "\n",
    "region_features = extract_region_features()\n",
    "brand_features = ..\n",
    "\n",
    "\n",
    "\n",
    "\n",
    "\n",
    "master = master.join(region_features, how = 'left', on = ['month', 'region', 'brand'])"
   ]
  },
  {
   "cell_type": "markdown",
   "id": "acc5dddb",
   "metadata": {},
   "source": [
    "### 2.3 Save master table"
   ]
  },
  {
   "cell_type": "code",
   "execution_count": null,
   "id": "7475a6ff",
   "metadata": {},
   "outputs": [],
   "source": [
    "master.to_csv(os.path.join(processed_path, 'master.csv'))"
   ]
  }
 ],
 "metadata": {
  "kernelspec": {
   "display_name": "Python 3 (ipykernel)",
   "language": "python",
   "name": "python3"
  },
  "language_info": {
   "codemirror_mode": {
    "name": "ipython",
    "version": 3
   },
   "file_extension": ".py",
   "mimetype": "text/x-python",
   "name": "python",
   "nbconvert_exporter": "python",
   "pygments_lexer": "ipython3",
   "version": "3.9.6"
  }
 },
 "nbformat": 4,
 "nbformat_minor": 5
}
