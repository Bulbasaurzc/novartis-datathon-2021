{
 "cells": [
  {
   "cell_type": "code",
   "execution_count": null,
   "id": "6ece31ad",
   "metadata": {},
   "outputs": [],
   "source": [
    "import sys\n",
    "sys.path.append('..')\n",
    "from src.utilities import *\n",
    "from src.data import blablabla"
   ]
  },
  {
   "cell_type": "markdown",
   "id": "b3a7940d",
   "metadata": {},
   "source": [
    "## 1. Data cleaning"
   ]
  },
  {
   "cell_type": "markdown",
   "id": "0b0a506a",
   "metadata": {},
   "source": [
    "#### 1.1 Clean activity data"
   ]
  },
  {
   "cell_type": "code",
   "execution_count": null,
   "id": "3827037a",
   "metadata": {},
   "outputs": [],
   "source": [
    "activity = pd.read_csv(os.path.join(raw_path, 'activity.csv'))\n",
    "cleansedDf = clean_activity(activity)\n",
    "cleansedDf.to_csv(os.path.join(interim_path, 'activity.csv'))"
   ]
  },
  {
   "cell_type": "markdown",
   "id": "3bbdf44c",
   "metadata": {},
   "source": [
    "#### 1.2 "
   ]
  }
 ],
 "metadata": {
  "kernelspec": {
   "display_name": "Python 3 (ipykernel)",
   "language": "python",
   "name": "python3"
  },
  "language_info": {
   "codemirror_mode": {
    "name": "ipython",
    "version": 3
   },
   "file_extension": ".py",
   "mimetype": "text/x-python",
   "name": "python",
   "nbconvert_exporter": "python",
   "pygments_lexer": "ipython3",
   "version": "3.9.6"
  }
 },
 "nbformat": 4,
 "nbformat_minor": 5
}
